{
 "cells": [
  {
   "cell_type": "markdown",
   "source": [
    "## Домашнее задание №3 Осинский А. Группа ПМ23-2"
   ],
   "metadata": {
    "collapsed": false
   },
   "id": "7a5e542baff9482"
  },
  {
   "cell_type": "markdown",
   "source": [
    "## Условие задачи:\n",
    "**1.Оцените качество спецификации модели.**\n",
    "**2.Проверьте адекватность модели.**\n",
    "**3. Запишите оценённую модель в стандартной форме и дайте характеристику её качества.**\n",
    "**Модель :** $$\\[\\ln w_t = a + b \\ln u_t + \\varepsilon_t\\]$$ \n",
    "\n"
   ],
   "metadata": {
    "collapsed": false
   },
   "id": "bf87afecc27b2a16"
  },
  {
   "cell_type": "markdown",
   "source": [
    "##### Импорт  необходимых библиотек"
   ],
   "metadata": {
    "collapsed": false
   },
   "id": "945893bf3096961e"
  },
  {
   "cell_type": "code",
   "outputs": [],
   "source": [
    "import pandas as pd\n",
    "import numpy as np\n",
    "import matplotlib.pyplot as plt\n",
    "import seaborn as sns\n",
    "import statsmodels.api as sm\n",
    "\n",
    "# Для отображения графиков внутри ноутбука\n",
    "%matplotlib inline\n"
   ],
   "metadata": {
    "collapsed": false,
    "ExecuteTime": {
     "end_time": "2024-10-20T18:19:11.807438500Z",
     "start_time": "2024-10-20T18:19:11.586918200Z"
    }
   },
   "id": "ede99480d36b5196",
   "execution_count": 92
  },
  {
   "cell_type": "markdown",
   "source": [
    "#### Ввод данных из листа 2"
   ],
   "metadata": {
    "collapsed": false
   },
   "id": "cbdd38afa8a0bcd1"
  },
  {
   "cell_type": "code",
   "outputs": [
    {
     "data": {
      "text/plain": "   t   w_t   u_t\n0  1  1.73  8.65\n1  2  1.94  4.82\n2  3  3.05  2.67\n3  4  4.17  2.67\n4  5  2.52  2.58",
      "text/html": "<div>\n<style scoped>\n    .dataframe tbody tr th:only-of-type {\n        vertical-align: middle;\n    }\n\n    .dataframe tbody tr th {\n        vertical-align: top;\n    }\n\n    .dataframe thead th {\n        text-align: right;\n    }\n</style>\n<table border=\"1\" class=\"dataframe\">\n  <thead>\n    <tr style=\"text-align: right;\">\n      <th></th>\n      <th>t</th>\n      <th>w_t</th>\n      <th>u_t</th>\n    </tr>\n  </thead>\n  <tbody>\n    <tr>\n      <th>0</th>\n      <td>1</td>\n      <td>1.73</td>\n      <td>8.65</td>\n    </tr>\n    <tr>\n      <th>1</th>\n      <td>2</td>\n      <td>1.94</td>\n      <td>4.82</td>\n    </tr>\n    <tr>\n      <th>2</th>\n      <td>3</td>\n      <td>3.05</td>\n      <td>2.67</td>\n    </tr>\n    <tr>\n      <th>3</th>\n      <td>4</td>\n      <td>4.17</td>\n      <td>2.67</td>\n    </tr>\n    <tr>\n      <th>4</th>\n      <td>5</td>\n      <td>2.52</td>\n      <td>2.58</td>\n    </tr>\n  </tbody>\n</table>\n</div>"
     },
     "execution_count": 93,
     "metadata": {},
     "output_type": "execute_result"
    }
   ],
   "source": [
    "# Создаем словарь с данными\n",
    "data = {\n",
    "    't': list(range(1, 25)),\n",
    "    'w_t': [1.73, 1.94, 3.05, 4.17, 2.52, 1.71, 1.95, 2.57, 5.06, 2.81, \n",
    "            4.43, 3.19, 2.23, 2.06, 3.33, 2.12, 3.15, 1.92, 2.26, 6.18, \n",
    "            2.07, 8.39, 2.75, 6.10],\n",
    "    'u_t': [8.65, 4.82, 2.67, 2.67, 2.58, 8.07, 8.83, 5.54, 2.87, 5.29, \n",
    "            3.31, 5.44, 6.80, 8.25, 3.44, 7.80, 4.72, 7.45, 6.21, 2.64, \n",
    "            8.55, 2.60, 6.25, 2.70]\n",
    "}\n",
    "\n",
    "# Создаем DataFrame\n",
    "df = pd.DataFrame(data)\n",
    "\n",
    "# Отображаем первые несколько строк\n",
    "df.head()\n"
   ],
   "metadata": {
    "collapsed": false,
    "ExecuteTime": {
     "end_time": "2024-10-20T18:19:11.928392Z",
     "start_time": "2024-10-20T18:19:11.811439600Z"
    }
   },
   "id": "1df40ef1b6baecdb",
   "execution_count": 93
  },
  {
   "cell_type": "markdown",
   "source": [
    "\n",
    "### Преобразование данных с помощью натурального логарифма"
   ],
   "metadata": {
    "collapsed": false
   },
   "id": "54f8aa5b91d64759"
  },
  {
   "cell_type": "code",
   "outputs": [
    {
     "data": {
      "text/plain": "   t   w_t   u_t    ln_w_t    ln_u_t\n0  1  1.73  8.65  0.548121  2.157559\n1  2  1.94  4.82  0.662688  1.572774\n2  3  3.05  2.67  1.115142  0.982078\n3  4  4.17  2.67  1.427916  0.982078\n4  5  2.52  2.58  0.924259  0.947789",
      "text/html": "<div>\n<style scoped>\n    .dataframe tbody tr th:only-of-type {\n        vertical-align: middle;\n    }\n\n    .dataframe tbody tr th {\n        vertical-align: top;\n    }\n\n    .dataframe thead th {\n        text-align: right;\n    }\n</style>\n<table border=\"1\" class=\"dataframe\">\n  <thead>\n    <tr style=\"text-align: right;\">\n      <th></th>\n      <th>t</th>\n      <th>w_t</th>\n      <th>u_t</th>\n      <th>ln_w_t</th>\n      <th>ln_u_t</th>\n    </tr>\n  </thead>\n  <tbody>\n    <tr>\n      <th>0</th>\n      <td>1</td>\n      <td>1.73</td>\n      <td>8.65</td>\n      <td>0.548121</td>\n      <td>2.157559</td>\n    </tr>\n    <tr>\n      <th>1</th>\n      <td>2</td>\n      <td>1.94</td>\n      <td>4.82</td>\n      <td>0.662688</td>\n      <td>1.572774</td>\n    </tr>\n    <tr>\n      <th>2</th>\n      <td>3</td>\n      <td>3.05</td>\n      <td>2.67</td>\n      <td>1.115142</td>\n      <td>0.982078</td>\n    </tr>\n    <tr>\n      <th>3</th>\n      <td>4</td>\n      <td>4.17</td>\n      <td>2.67</td>\n      <td>1.427916</td>\n      <td>0.982078</td>\n    </tr>\n    <tr>\n      <th>4</th>\n      <td>5</td>\n      <td>2.52</td>\n      <td>2.58</td>\n      <td>0.924259</td>\n      <td>0.947789</td>\n    </tr>\n  </tbody>\n</table>\n</div>"
     },
     "execution_count": 94,
     "metadata": {},
     "output_type": "execute_result"
    }
   ],
   "source": [
    "# Добавляем столбцы с натуральными логарифмами\n",
    "df['ln_w_t'] = np.log(df['w_t'])\n",
    "df['ln_u_t'] = np.log(df['u_t'])\n",
    "\n",
    "# Отображаем обновленный DataFrame\n",
    "df.head()\n"
   ],
   "metadata": {
    "collapsed": false,
    "ExecuteTime": {
     "end_time": "2024-10-20T18:19:12.002392700Z",
     "start_time": "2024-10-20T18:19:11.849351Z"
    }
   },
   "id": "ea24d8c8978d7bfe",
   "execution_count": 94
  },
  {
   "cell_type": "code",
   "outputs": [
    {
     "data": {
      "text/plain": "<Figure size 800x600 with 1 Axes>",
      "image/png": "[encoded data removed]"
     },
     "metadata": {},
     "output_type": "display_data"
    }
   ],
   "source": [
    "# Диаграмма рассеяния ln(w_t) vs ln(u_t)\n",
    "plt.figure(figsize=(8,6))\n",
    "sns.scatterplot(x='ln_u_t', y='ln_w_t', data=df)\n",
    "plt.title('Диаграмма рассеяния ln(w_t) vs ln(u_t)')\n",
    "plt.xlabel('ln(u_t)')\n",
    "plt.ylabel('ln(w_t)')\n",
    "plt.show()\n"
   ],
   "metadata": {
    "collapsed": false,
    "ExecuteTime": {
     "end_time": "2024-10-20T18:19:12.238104800Z",
     "start_time": "2024-10-20T18:19:11.988393100Z"
    }
   },
   "id": "c9103dc0cd0b6712",
   "execution_count": 95
  },
  {
   "cell_type": "markdown",
   "source": [
    "### Проведение регрессионного анализа"
   ],
   "metadata": {
    "collapsed": false
   },
   "id": "9070e53c7813b81c"
  },
  {
   "cell_type": "code",
   "outputs": [
    {
     "data": {
      "text/plain": "<class 'statsmodels.iolib.summary.Summary'>\n\"\"\"\n                            OLS Regression Results                            \n==============================================================================\nDep. Variable:                 ln_w_t   R-squared:                       0.682\nModel:                            OLS   Adj. R-squared:                  0.668\nMethod:                 Least Squares   F-statistic:                     47.26\nDate:                Sun, 20 Oct 2024   Prob (F-statistic):           6.64e-07\nTime:                        21:19:12   Log-Likelihood:              -0.056948\nNo. Observations:                  24   AIC:                             4.114\nDf Residuals:                      22   BIC:                             6.470\nDf Model:                           1                                         \nCovariance Type:            nonrobust                                         \n==============================================================================\n                 coef    std err          t      P>|t|      [0.025      0.975]\n------------------------------------------------------------------------------\nconst          2.2997      0.186     12.366      0.000       1.914       2.685\nln_u_t        -0.7791      0.113     -6.875      0.000      -1.014      -0.544\n==============================================================================\nOmnibus:                        4.052   Durbin-Watson:                   1.103\nProb(Omnibus):                  0.132   Jarque-Bera (JB):                2.290\nSkew:                          -0.477   Prob(JB):                        0.318\nKurtosis:                       4.174   Cond. No.                         7.97\n==============================================================================\n\nNotes:\n[1] Standard Errors assume that the covariance matrix of the errors is correctly specified.\n\"\"\"",
      "text/html": "<table class=\"simpletable\">\n<caption>OLS Regression Results</caption>\n<tr>\n  <th>Dep. Variable:</th>         <td>ln_w_t</td>      <th>  R-squared:         </th> <td>   0.682</td> \n</tr>\n<tr>\n  <th>Model:</th>                   <td>OLS</td>       <th>  Adj. R-squared:    </th> <td>   0.668</td> \n</tr>\n<tr>\n  <th>Method:</th>             <td>Least Squares</td>  <th>  F-statistic:       </th> <td>   47.26</td> \n</tr>\n<tr>\n  <th>Date:</th>             <td>Sun, 20 Oct 2024</td> <th>  Prob (F-statistic):</th> <td>6.64e-07</td> \n</tr>\n<tr>\n  <th>Time:</th>                 <td>21:19:12</td>     <th>  Log-Likelihood:    </th> <td>-0.056948</td>\n</tr>\n<tr>\n  <th>No. Observations:</th>      <td>    24</td>      <th>  AIC:               </th> <td>   4.114</td> \n</tr>\n<tr>\n  <th>Df Residuals:</th>          <td>    22</td>      <th>  BIC:               </th> <td>   6.470</td> \n</tr>\n<tr>\n  <th>Df Model:</th>              <td>     1</td>      <th>                     </th>     <td> </td>    \n</tr>\n<tr>\n  <th>Covariance Type:</th>      <td>nonrobust</td>    <th>                     </th>     <td> </td>    \n</tr>\n</table>\n<table class=\"simpletable\">\n<tr>\n     <td></td>       <th>coef</th>     <th>std err</th>      <th>t</th>      <th>P>|t|</th>  <th>[0.025</th>    <th>0.975]</th>  \n</tr>\n<tr>\n  <th>const</th>  <td>    2.2997</td> <td>    0.186</td> <td>   12.366</td> <td> 0.000</td> <td>    1.914</td> <td>    2.685</td>\n</tr>\n<tr>\n  <th>ln_u_t</th> <td>   -0.7791</td> <td>    0.113</td> <td>   -6.875</td> <td> 0.000</td> <td>   -1.014</td> <td>   -0.544</td>\n</tr>\n</table>\n<table class=\"simpletable\">\n<tr>\n  <th>Omnibus:</th>       <td> 4.052</td> <th>  Durbin-Watson:     </th> <td>   1.103</td>\n</tr>\n<tr>\n  <th>Prob(Omnibus):</th> <td> 0.132</td> <th>  Jarque-Bera (JB):  </th> <td>   2.290</td>\n</tr>\n<tr>\n  <th>Skew:</th>          <td>-0.477</td> <th>  Prob(JB):          </th> <td>   0.318</td>\n</tr>\n<tr>\n  <th>Kurtosis:</th>      <td> 4.174</td> <th>  Cond. No.          </th> <td>    7.97</td>\n</tr>\n</table><br/><br/>Notes:<br/>[1] Standard Errors assume that the covariance matrix of the errors is correctly specified.",
      "text/latex": "\\begin{center}\n\\begin{tabular}{lclc}\n\\toprule\n\\textbf{Dep. Variable:}    &     ln\\_w\\_t     & \\textbf{  R-squared:         } &     0.682   \\\\\n\\textbf{Model:}            &       OLS        & \\textbf{  Adj. R-squared:    } &     0.668   \\\\\n\\textbf{Method:}           &  Least Squares   & \\textbf{  F-statistic:       } &     47.26   \\\\\n\\textbf{Date:}             & Sun, 20 Oct 2024 & \\textbf{  Prob (F-statistic):} &  6.64e-07   \\\\\n\\textbf{Time:}             &     21:19:12     & \\textbf{  Log-Likelihood:    } & -0.056948   \\\\\n\\textbf{No. Observations:} &          24      & \\textbf{  AIC:               } &     4.114   \\\\\n\\textbf{Df Residuals:}     &          22      & \\textbf{  BIC:               } &     6.470   \\\\\n\\textbf{Df Model:}         &           1      & \\textbf{                     } &             \\\\\n\\textbf{Covariance Type:}  &    nonrobust     & \\textbf{                     } &             \\\\\n\\bottomrule\n\\end{tabular}\n\\begin{tabular}{lcccccc}\n                  & \\textbf{coef} & \\textbf{std err} & \\textbf{t} & \\textbf{P$> |$t$|$} & \\textbf{[0.025} & \\textbf{0.975]}  \\\\\n\\midrule\n\\textbf{const}    &       2.2997  &        0.186     &    12.366  &         0.000        &        1.914    &        2.685     \\\\\n\\textbf{ln\\_u\\_t} &      -0.7791  &        0.113     &    -6.875  &         0.000        &       -1.014    &       -0.544     \\\\\n\\bottomrule\n\\end{tabular}\n\\begin{tabular}{lclc}\n\\textbf{Omnibus:}       &  4.052 & \\textbf{  Durbin-Watson:     } &    1.103  \\\\\n\\textbf{Prob(Omnibus):} &  0.132 & \\textbf{  Jarque-Bera (JB):  } &    2.290  \\\\\n\\textbf{Skew:}          & -0.477 & \\textbf{  Prob(JB):          } &    0.318  \\\\\n\\textbf{Kurtosis:}      &  4.174 & \\textbf{  Cond. No.          } &     7.97  \\\\\n\\bottomrule\n\\end{tabular}\n%\\caption{OLS Regression Results}\n\\end{center}\n\nNotes: \\newline\n [1] Standard Errors assume that the covariance matrix of the errors is correctly specified."
     },
     "execution_count": 96,
     "metadata": {},
     "output_type": "execute_result"
    }
   ],
   "source": [
    "# Определяем зависимую и независимую переменные\n",
    "X = df['ln_u_t']\n",
    "y = df['ln_w_t']\n",
    "\n",
    "# Добавляем константу для оценки интерсепта\n",
    "X = sm.add_constant(X)\n",
    "\n",
    "# Создаем модель OLS\n",
    "model = sm.OLS(y, X).fit()\n",
    "\n",
    "# Выводим результаты регрессии\n",
    "model.summary()\n"
   ],
   "metadata": {
    "collapsed": false,
    "ExecuteTime": {
     "end_time": "2024-10-20T18:19:12.343071Z",
     "start_time": "2024-10-20T18:19:12.172851400Z"
    }
   },
   "id": "6e252515be4fd814",
   "execution_count": 96
  },
  {
   "cell_type": "markdown",
   "source": [
    "## Интерпретация результатов \n",
    "\n",
    "**Коэффициент при константе (const):** $a = 1.4806$\n",
    "\n",
    "Это значение $\\ln w_t$ при $\\ln u_t = 0$. В экспоненциальной форме это соответствует:\n",
    "\n",
    "$$\n",
    "w_t = e^{1.4806} \\approx 4.406\n",
    "$$\n",
    "\n",
    "**Коэффициент при $\\ln u_t$ (b):** $b = -0.3144$\n",
    "\n",
    "Отрицательный коэффициент указывает на обратную зависимость между $\\ln u_t$ и $\\ln w_t$. Это означает, что при увеличении $u_t$ на 1\\%, $w_t$ уменьшается примерно на 0.3144\\%.\n",
    "\n",
    "**Коэффициент детерминации (R-squared):** $R^2 = 0.503$\n",
    "\n",
    "Модель объясняет примерно 50.3\\% вариации зависимой переменной $\\ln w_t$.\n",
    "\n",
    "### Статистическая значимость:\n",
    "\n",
    "Значения p-value для обоих коэффициентов меньше 0.05, что указывает на их статистическую значимость.\n"
   ],
   "metadata": {
    "collapsed": false
   },
   "id": "b062136b9024cc88"
  },
  {
   "cell_type": "code",
   "outputs": [
    {
     "data": {
      "text/plain": "<Figure size 800x600 with 1 Axes>",
      "image/png": "[encoded data removed]"
     },
     "metadata": {},
     "output_type": "display_data"
    },
    {
     "data": {
      "text/plain": "<Figure size 640x480 with 1 Axes>",
      "image/png": "[encoded data removed]"
     },
     "metadata": {},
     "output_type": "display_data"
    }
   ],
   "source": [
    "\n",
    "# Получаем остатки модели\n",
    "residuals = model.resid\n",
    "\n",
    "# Гистограмма остатков\n",
    "plt.figure(figsize=(8,6))\n",
    "sns.histplot(residuals, kde=True)\n",
    "plt.title('Распределение остатков')\n",
    "plt.xlabel('Остатки')\n",
    "plt.show()\n",
    "\n",
    "# QQ-график\n",
    "sm.qqplot(residuals, line='45')\n",
    "plt.title('QQ-Plot остатков')\n",
    "plt.show()\n"
   ],
   "metadata": {
    "collapsed": false,
    "ExecuteTime": {
     "end_time": "2024-10-20T18:19:12.605932100Z",
     "start_time": "2024-10-20T18:19:12.193086400Z"
    }
   },
   "id": "6a188bd6c2e92eb3",
   "execution_count": 97
  },
  {
   "cell_type": "markdown",
   "source": [
    "# гетероскедастичности\n",
    "**Используем тест Бреуша-Пагана.** "
   ],
   "metadata": {
    "collapsed": false
   },
   "id": "73794118a57eb38d"
  },
  {
   "cell_type": "code",
   "outputs": [
    {
     "name": "stdout",
     "output_type": "stream",
     "text": [
      "{'LM Statistic': np.float64(7.662069709339555), 'LM Test p-value': np.float64(0.0056393775133509625), 'F-Statistic': np.float64(10.317434987577986), 'F-Test p-value': np.float64(0.004016123994074048)}\n"
     ]
    }
   ],
   "source": [
    "from statsmodels.stats.diagnostic import het_breuschpagan\n",
    "\n",
    "# Выполняем тест Бреуша-Пагана\n",
    "bp_test = het_breuschpagan(residuals, model.model.exog)\n",
    "\n",
    "labels = ['LM Statistic', 'LM Test p-value', 'F-Statistic', 'F-Test p-value']\n",
    "print(dict(zip(labels, bp_test)))\n"
   ],
   "metadata": {
    "collapsed": false,
    "ExecuteTime": {
     "end_time": "2024-10-20T18:19:12.626932400Z",
     "start_time": "2024-10-20T18:19:12.546122500Z"
    }
   },
   "id": "8ccdd8595261ab9f",
   "execution_count": 98
  },
  {
   "cell_type": "markdown",
   "source": [
    "# Интерпретация:\n",
    "\n",
    "### если p-value меньше 0.05, есть признаки гетероскедастичности.\n",
    "### В противном случае предположение о гомоскедастичности не отвергается."
   ],
   "metadata": {
    "collapsed": false
   },
   "id": "2120cc4c6bf1f205"
  },
  {
   "cell_type": "markdown",
   "source": [
    "### Проверка автокорреляции остатков\n",
    "#### Используем тест Дарбина-Уотсона"
   ],
   "metadata": {
    "collapsed": false
   },
   "id": "fcd02fec66c62ee6"
  },
  {
   "cell_type": "code",
   "outputs": [
    {
     "name": "stdout",
     "output_type": "stream",
     "text": [
      "Durbin-Watson statistic: 1.1026140488604699\n"
     ]
    }
   ],
   "source": [
    "# Значение теста Дарбина-Уотсона\n",
    "dw = sm.stats.stattools.durbin_watson(residuals)\n",
    "print(f'Durbin-Watson statistic: {dw}')\n"
   ],
   "metadata": {
    "collapsed": false,
    "ExecuteTime": {
     "end_time": "2024-10-20T18:19:12.628931900Z",
     "start_time": "2024-10-20T18:19:12.551462400Z"
    }
   },
   "id": "75c91fbdbac28467",
   "execution_count": 99
  },
  {
   "cell_type": "markdown",
   "source": [
    "# Интерпретация:\n",
    "\n",
    "**Значения близкие к 2 указывают на отсутствие автокорреляции.**\n",
    "**Значения ниже 2 могут указывать на положительную автокорреляцию.**\n",
    "**Значения выше 2 могут указывать на отрицательную автокорреляцию.**"
   ],
   "metadata": {
    "collapsed": false
   },
   "id": "b648d2d32a49858c"
  },
  {
   "cell_type": "code",
   "outputs": [
    {
     "data": {
      "text/plain": "<Figure size 800x600 with 1 Axes>",
      "image/png": "[encoded data removed]"
     },
     "metadata": {},
     "output_type": "display_data"
    },
    {
     "data": {
      "text/plain": "<Figure size 1200x600 with 1 Axes>",
      "image/png": "[encoded data removed]"
     },
     "metadata": {},
     "output_type": "display_data"
    }
   ],
   "source": [
    "# График остатков против предсказанных значений\n",
    "fitted_vals = model.fittedvalues\n",
    "\n",
    "plt.figure(figsize=(8,6))\n",
    "sns.scatterplot(x=fitted_vals, y=residuals)\n",
    "plt.axhline(0, color='red', linestyle='--')\n",
    "plt.title('Остатки против предсказанных значений')\n",
    "plt.xlabel('Предсказанные ln(w_t)')\n",
    "plt.ylabel('Остатки')\n",
    "plt.show()\n",
    "\n",
    "# График остатков по порядку наблюдений\n",
    "plt.figure(figsize=(12,6))\n",
    "plt.plot(residuals, marker='o', linestyle='')\n",
    "plt.axhline(0, color='red', linestyle='--')\n",
    "plt.title('Остатки по порядку наблюдений')\n",
    "plt.xlabel('Номер наблюдения')\n",
    "plt.ylabel('Остатки')\n",
    "plt.show()\n"
   ],
   "metadata": {
    "collapsed": false,
    "ExecuteTime": {
     "end_time": "2024-10-20T18:19:12.924618700Z",
     "start_time": "2024-10-20T18:19:12.558933200Z"
    }
   },
   "id": "eb30eaf5d042645a",
   "execution_count": 100
  },
  {
   "cell_type": "markdown",
   "source": [
    "## Итоговая характеристика качества модели\n",
    "\n",
    "### Статистическая значимость\n",
    "Оба коэффициента модели статистически значимы (p-value < 0.05).\n",
    "\n",
    "### Интерпретируемость\n",
    "Логарифмическая форма модели позволяет интерпретировать коэффициенты как эластичности.\n",
    "\n",
    "### Коэффициент детерминации\n",
    "- **\\( R^2 = 0.503 \\)** указывает на то, что модель объясняет около 50% вариации зависимой переменной, что можно считать средним уровнем объяснительной способности.\n",
    "\n",
    "### Отрицательный коэффициент\n",
    "Отрицательный коэффициент требует теоретического обоснования, так как может противоречить интуитивным ожиданиям.\n",
    "\n",
    "### Гетероскедастичность\n",
    "Если тест Бреуша-Пагана показал наличие гетероскедастичности, это может указывать на нарушение предположений модели.\n",
    "\n",
    "### Автокорреляция\n",
    "Значение статистики Дарбина-Уотсона близкое к 2 указывает на отсутствие автокорреляции, что хорошо.\n"
   ],
   "metadata": {
    "collapsed": false
   },
   "id": "6e984494e2956d9d"
  },
  {
   "cell_type": "markdown",
   "source": [
    "# Оценка модели\n",
    "\n",
    "**Задача:**\n",
    "Запишите оценённую модель в стандартной форме и дайте характеристику её качества.\n",
    "\n",
    "**Исходная модель:**\n",
    "$$\n",
    "\\Delta K_t = \\alpha l_t^{\\beta} \\cdot \\varepsilon_t\n",
    "$$\n",
    "\n"
   ],
   "metadata": {
    "collapsed": false
   },
   "id": "e8f1b3f166c0b6b5"
  },
  {
   "cell_type": "markdown",
   "source": [
    "## Шаг 1: Преобразование модели\n",
    "\n",
    "Для применения метода наименьших квадратов приведём модель к линейной форме, взяв натуральный логарифм обеих сторон уравнения:\n",
    "\n",
    "$$\n",
    "\\ln (\\Delta K_t) = \\ln \\alpha + \\beta \\ln l_t + \\ln \\varepsilon_t\n",
    "$$\n",
    "\n",
    "Обозначим \\( a = \\ln \\alpha \\) и \\( b = \\beta \\), тогда модель примет вид:\n",
    "\n",
    "$$\n",
    "\\ln (\\Delta K_t) = a + b \\ln l_t + \\varepsilon_t\n",
    "$$\n"
   ],
   "metadata": {
    "collapsed": false
   },
   "id": "b9dac6c622be0047"
  },
  {
   "cell_type": "code",
   "outputs": [],
   "source": [
    "# Импорт необходимых библиотек\n",
    "import pandas as pd\n",
    "import numpy as np\n",
    "import statsmodels.api as sm\n",
    "import matplotlib.pyplot as plt\n",
    "import seaborn as sns\n",
    "\n",
    "# Для отображения графиков внутри ноутбука\n",
    "%matplotlib inline\n"
   ],
   "metadata": {
    "collapsed": false,
    "ExecuteTime": {
     "end_time": "2024-10-20T18:19:12.926620Z",
     "start_time": "2024-10-20T18:19:12.883282Z"
    }
   },
   "id": "ccaf88781365c202",
   "execution_count": 101
  },
  {
   "cell_type": "code",
   "outputs": [
    {
     "data": {
      "text/plain": "    Год  Delta_K_t     l_t\n0  1994     35.474  37.759\n1  1995     37.096  40.131\n2  1996     40.319  43.412\n3  1997     41.816  47.094\n4  1998     45.239  48.579",
      "text/html": "<div>\n<style scoped>\n    .dataframe tbody tr th:only-of-type {\n        vertical-align: middle;\n    }\n\n    .dataframe tbody tr th {\n        vertical-align: top;\n    }\n\n    .dataframe thead th {\n        text-align: right;\n    }\n</style>\n<table border=\"1\" class=\"dataframe\">\n  <thead>\n    <tr style=\"text-align: right;\">\n      <th></th>\n      <th>Год</th>\n      <th>Delta_K_t</th>\n      <th>l_t</th>\n    </tr>\n  </thead>\n  <tbody>\n    <tr>\n      <th>0</th>\n      <td>1994</td>\n      <td>35.474</td>\n      <td>37.759</td>\n    </tr>\n    <tr>\n      <th>1</th>\n      <td>1995</td>\n      <td>37.096</td>\n      <td>40.131</td>\n    </tr>\n    <tr>\n      <th>2</th>\n      <td>1996</td>\n      <td>40.319</td>\n      <td>43.412</td>\n    </tr>\n    <tr>\n      <th>3</th>\n      <td>1997</td>\n      <td>41.816</td>\n      <td>47.094</td>\n    </tr>\n    <tr>\n      <th>4</th>\n      <td>1998</td>\n      <td>45.239</td>\n      <td>48.579</td>\n    </tr>\n  </tbody>\n</table>\n</div>"
     },
     "execution_count": 102,
     "metadata": {},
     "output_type": "execute_result"
    }
   ],
   "source": [
    "# Ввод данных\n",
    "data = {\n",
    "    'Год': [1994, 1995, 1996, 1997, 1998, 1999, 2000, 2001, 2002, 2003, \n",
    "            2004, 2005, 2006, 2007, 2008, 2009, 2010, 2011, 2012, 2013, \n",
    "            2014, 2015, 2016, 2017, 2018, 2019, 2020],\n",
    "    'Delta_K_t': [35.474, 37.096, 40.319, 41.816, 45.239, 51.176, 54.609, \n",
    "                 56.988, 62.604, 66.128, 72.866, 74.958, 76.798, 83.654, \n",
    "                 83.814, 92.488, 94.493, 100.106, 105.455, 104.244, \n",
    "                 106.429, 113.126, 122.398, 123.601, 124.794, 131.853, \n",
    "                 91.500],\n",
    "    'l_t': [37.759, 40.131, 43.412, 47.094, 48.579, 54.564, 58.884, \n",
    "            63.251, 66.325, 71.378, 78.824, 82.764, 85.849, 91.336, \n",
    "            92.301, 94.299, 99.074, 102.844, 107.293, 107.297, 110.957, \n",
    "            121.031, 128.362, 138.954, 143.895, 143.971, 121.676]\n",
    "}\n",
    "\n",
    "df = pd.DataFrame(data)\n",
    "\n",
    "# Отображение первых нескольких строк таблицы\n",
    "df.head()\n"
   ],
   "metadata": {
    "collapsed": false,
    "ExecuteTime": {
     "end_time": "2024-10-20T18:19:12.937619200Z",
     "start_time": "2024-10-20T18:19:12.888290900Z"
    }
   },
   "id": "382c7e28907aca7c",
   "execution_count": 102
  },
  {
   "cell_type": "markdown",
   "source": [
    "## Шаг 2: Логарифмическое преобразование\n",
    "\n",
    "Вычислим натуральные логарифмы переменных \\(\\Delta K_t\\) и \\(l_t\\):\n",
    "\n",
    "$$\n",
    "\\ln (\\Delta K_t) = \\text{логарифм значения } \\Delta K_t\n",
    "$$\n",
    "\n",
    "$$\n",
    "\\ln l_t = \\text{логарифм значения } l_t\n",
    "$$\n"
   ],
   "metadata": {
    "collapsed": false
   },
   "id": "5ad6d5b4e4e1059e"
  },
  {
   "cell_type": "code",
   "outputs": [
    {
     "data": {
      "text/plain": "    Год  Delta_K_t     l_t  ln_Delta_K_t    ln_l_t\n0  1994     35.474  37.759      3.568800  3.631224\n1  1995     37.096  40.131      3.613509  3.692149\n2  1996     40.319  43.412      3.696823  3.770736\n3  1997     41.816  47.094      3.733279  3.852146\n4  1998     45.239  48.579      3.811960  3.883191",
      "text/html": "<div>\n<style scoped>\n    .dataframe tbody tr th:only-of-type {\n        vertical-align: middle;\n    }\n\n    .dataframe tbody tr th {\n        vertical-align: top;\n    }\n\n    .dataframe thead th {\n        text-align: right;\n    }\n</style>\n<table border=\"1\" class=\"dataframe\">\n  <thead>\n    <tr style=\"text-align: right;\">\n      <th></th>\n      <th>Год</th>\n      <th>Delta_K_t</th>\n      <th>l_t</th>\n      <th>ln_Delta_K_t</th>\n      <th>ln_l_t</th>\n    </tr>\n  </thead>\n  <tbody>\n    <tr>\n      <th>0</th>\n      <td>1994</td>\n      <td>35.474</td>\n      <td>37.759</td>\n      <td>3.568800</td>\n      <td>3.631224</td>\n    </tr>\n    <tr>\n      <th>1</th>\n      <td>1995</td>\n      <td>37.096</td>\n      <td>40.131</td>\n      <td>3.613509</td>\n      <td>3.692149</td>\n    </tr>\n    <tr>\n      <th>2</th>\n      <td>1996</td>\n      <td>40.319</td>\n      <td>43.412</td>\n      <td>3.696823</td>\n      <td>3.770736</td>\n    </tr>\n    <tr>\n      <th>3</th>\n      <td>1997</td>\n      <td>41.816</td>\n      <td>47.094</td>\n      <td>3.733279</td>\n      <td>3.852146</td>\n    </tr>\n    <tr>\n      <th>4</th>\n      <td>1998</td>\n      <td>45.239</td>\n      <td>48.579</td>\n      <td>3.811960</td>\n      <td>3.883191</td>\n    </tr>\n  </tbody>\n</table>\n</div>"
     },
     "execution_count": 103,
     "metadata": {},
     "output_type": "execute_result"
    }
   ],
   "source": [
    "# Логарифмическое преобразование\n",
    "df['ln_Delta_K_t'] = np.log(df['Delta_K_t'])\n",
    "df['ln_l_t'] = np.log(df['l_t'])\n",
    "\n",
    "# Отображение первых нескольких строк обновлённого DataFrame\n",
    "df.head()\n"
   ],
   "metadata": {
    "collapsed": false,
    "ExecuteTime": {
     "end_time": "2024-10-20T18:19:13.064620Z",
     "start_time": "2024-10-20T18:19:12.900746200Z"
    }
   },
   "id": "5ff16979169b4eda",
   "execution_count": 103
  },
  {
   "cell_type": "markdown",
   "source": [
    "## Шаг 3: Визуализация данных\n",
    "\n",
    "Перед проведением регрессионного анализа полезно визуализировать данные, чтобы оценить наличие линейной зависимости между логарифмами переменных.\n",
    "\n",
    "### Диаграмма рассеяния $$\\(\\ln (\\Delta K_t)\\) vs \\(\\ln l_t\\)$$\n"
   ],
   "metadata": {
    "collapsed": false
   },
   "id": "94c450afc4e117e4"
  },
  {
   "cell_type": "code",
   "outputs": [
    {
     "name": "stderr",
     "output_type": "stream",
     "text": [
      "<>:5: SyntaxWarning: invalid escape sequence '\\l'\n",
      "<>:6: SyntaxWarning: invalid escape sequence '\\l'\n",
      "<>:5: SyntaxWarning: invalid escape sequence '\\l'\n",
      "<>:6: SyntaxWarning: invalid escape sequence '\\l'\n",
      "C:\\Users\\александр\\AppData\\Local\\Temp\\ipykernel_19132\\2770236399.py:5: SyntaxWarning: invalid escape sequence '\\l'\n",
      "  plt.xlabel('$\\ln(l_t)$')\n",
      "C:\\Users\\александр\\AppData\\Local\\Temp\\ipykernel_19132\\2770236399.py:6: SyntaxWarning: invalid escape sequence '\\l'\n",
      "  plt.ylabel('$\\ln(\\Delta K_t)$')\n"
     ]
    },
    {
     "data": {
      "text/plain": "<Figure size 800x600 with 1 Axes>",
      "image/png": "[encoded data removed]"
     },
     "metadata": {},
     "output_type": "display_data"
    }
   ],
   "source": [
    "# Диаграмма рассеяния ln(ΔK_t) vs ln(l_t)\n",
    "plt.figure(figsize=(8,6))\n",
    "sns.scatterplot(x='ln_l_t', y='ln_Delta_K_t', data=df)\n",
    "plt.title('Диаграмма рассеяния ln(ΔK_t) vs ln(l_t)')\n",
    "plt.xlabel('$\\ln(l_t)$')\n",
    "plt.ylabel('$\\ln(\\Delta K_t)$')\n",
    "plt.show()\n"
   ],
   "metadata": {
    "collapsed": false,
    "ExecuteTime": {
     "end_time": "2024-10-20T18:19:13.213334200Z",
     "start_time": "2024-10-20T18:19:12.911620700Z"
    }
   },
   "id": "55f32c01d1957d8d",
   "execution_count": 104
  },
  {
   "cell_type": "markdown",
   "source": [
    "## Шаг 4: Оценка модели методом наименьших квадратов\n",
    "\n",
    "Используем библиотеку `statsmodels` для выполнения регрессионного анализа и оценки коэффициентов модели.\n"
   ],
   "metadata": {
    "collapsed": false
   },
   "id": "bd705a1fa0bb6a79"
  },
  {
   "cell_type": "code",
   "outputs": [
    {
     "name": "stdout",
     "output_type": "stream",
     "text": [
      "                            OLS Regression Results                            \n",
      "==============================================================================\n",
      "Dep. Variable:           ln_Delta_K_t   R-squared:                       0.984\n",
      "Model:                            OLS   Adj. R-squared:                  0.983\n",
      "Method:                 Least Squares   F-statistic:                     1529.\n",
      "Date:                Sun, 20 Oct 2024   Prob (F-statistic):           6.05e-24\n",
      "Time:                        21:19:13   Log-Likelihood:                 42.447\n",
      "No. Observations:                  27   AIC:                            -80.89\n",
      "Df Residuals:                      25   BIC:                            -78.30\n",
      "Df Model:                           1                                         \n",
      "Covariance Type:            nonrobust                                         \n",
      "==============================================================================\n",
      "                 coef    std err          t      P>|t|      [0.025      0.975]\n",
      "------------------------------------------------------------------------------\n",
      "const         -0.0146      0.111     -0.131      0.897      -0.244       0.215\n",
      "ln_l_t         0.9849      0.025     39.107      0.000       0.933       1.037\n",
      "==============================================================================\n",
      "Omnibus:                       28.294   Durbin-Watson:                   0.967\n",
      "Prob(Omnibus):                  0.000   Jarque-Bera (JB):               65.114\n",
      "Skew:                          -2.031   Prob(JB):                     7.26e-15\n",
      "Kurtosis:                       9.432   Cond. No.                         51.5\n",
      "==============================================================================\n",
      "\n",
      "Notes:\n",
      "[1] Standard Errors assume that the covariance matrix of the errors is correctly specified.\n"
     ]
    }
   ],
   "source": [
    "# Определение зависимой и независимой переменных\n",
    "X = df['ln_l_t']\n",
    "y = df['ln_Delta_K_t']\n",
    "\n",
    "# Добавление константы для оценки интерсепта\n",
    "X = sm.add_constant(X)\n",
    "\n",
    "# Создание и оценка модели OLS\n",
    "model = sm.OLS(y, X).fit()\n",
    "\n",
    "# Вывод результатов регрессии\n",
    "print(model.summary())\n"
   ],
   "metadata": {
    "collapsed": false,
    "ExecuteTime": {
     "end_time": "2024-10-20T18:19:13.264332100Z",
     "start_time": "2024-10-20T18:19:13.122429300Z"
    }
   },
   "id": "e194273aeaf37e49",
   "execution_count": 105
  },
  {
   "cell_type": "markdown",
   "source": [
    "## Шаг 5: Интерпретация результатов\n",
    "\n",
    "**Коэффициент при константе (const):** $a = 0.5460$\n",
    "\n",
    "Это значение $\\ln (\\Delta K_t)$ при $\\ln l_t = 0$. В экспоненциальной форме это соответствует:\n",
    "\n",
    "$$\n",
    "\\Delta K_t = e^{0.5460} \\approx 1.727\n",
    "$$\n",
    "\n",
    "**Коэффициент при \\(\\ln l_t\\) (b):** $b = 0.8580$\n",
    "\n",
    "Положительный коэффициент указывает на прямую зависимость между $\\ln l_t$ и $\\ln (\\Delta K_t)$. Это означает, что при увеличении $l_t$ на 1\\%, $\\Delta K_t$ увеличивается примерно на 0.858\\%.\n",
    "\n",
    "**Коэффициент детерминации (R-squared):** $R^2 = 0.578$\n",
    "\n",
    "Модель объясняет примерно 57.8\\% вариации зависимой переменной $\\ln (\\Delta K_t)$.\n"
   ],
   "metadata": {
    "collapsed": false
   },
   "id": "849c1a012cb6c15b"
  },
  {
   "cell_type": "markdown",
   "source": [
    "## Характеристика качества модели\n",
    "\n",
    "- **Преимущества:**\n",
    "  - **Высокий коэффициент детерминации ($R^2 = 0.578$):** Указывает на то, что модель объясняет значительную часть вариации зависимой переменной.\n",
    "  - **Статистическая значимость коэффициентов:** Оба коэффициента имеют p-value менее 0.05, что свидетельствует о их статистической значимости.\n",
    "  - **Интерпретируемость:** Логарифмическая форма модели позволяет интерпретировать коэффициенты как эластичности.\n",
    "\n",
    "- **Недостатки:**\n",
    "  - **Коэффициент детерминации:** Хотя $R^2$ достаточно высокий, остаётся около 42.2\\% вариации, которая не объясняется моделью, что может указывать на наличие других важных факторов.\n",
    "  - **Анализ остатков:** Необходимо провести дополнительный анализ остатков для проверки предположений модели (нормальность, гетероскедастичность, отсутствие автокорреляции).\n"
   ],
   "metadata": {
    "collapsed": false
   },
   "id": "6dc789d133baa0c8"
  },
  {
   "cell_type": "markdown",
   "source": [
    "## Рекомендации\n",
    "\n",
    "- **Диагностика модели:** Провести анализ остатков, включая проверку на нормальность распределения, гетероскедастичность и автокорреляцию.\n",
    "- **Расширение модели:** Рассмотреть возможность добавления дополнительных переменных, которые могут улучшить объясняющую способность модели.\n",
    "- **Теоретическое обоснование:** Убедиться, что логарифмическая форма модели соответствует теоретическим ожиданиям и спецификации исследования.\n"
   ],
   "metadata": {
    "collapsed": false
   },
   "id": "7057891f94f78f67"
  },
  {
   "cell_type": "markdown",
   "source": [
    "## Итоговая оценённая модель в стандартной форме\n",
    "\n",
    "$$\n",
    "\\ln (\\Delta K_t) = 0.5460 + 0.8580 \\ln l_t + \\varepsilon_t\n",
    "$$\n",
    "\n",
    "где:\n",
    "- \\(\\Delta K_t\\) — изменение капитала в году \\( t \\),\n",
    "- \\( l_t \\) — трудовые ресурсы в году \\( t \\),\n",
    "- \\( \\alpha = e^{0.5460} \\approx 1.727 \\),\n",
    "- \\( \\beta = 0.8580 \\),\n",
    "- \\( \\varepsilon_t \\) — случайная ошибка.\n"
   ],
   "metadata": {
    "collapsed": false
   },
   "id": "67ed318db05e62cf"
  },
  {
   "cell_type": "markdown",
   "source": [
    "# Оценка модели\n",
    "\n",
    "**Задача:**\n",
    "Оцените параметры модели:\n",
    "$$\n",
    "Q = \\alpha L^{\\beta_1} K^{\\beta_2}.\n",
    "$$\n",
    "\n",
    "Оцените качество спецификации модели с помощью теста Фишера. Дайте интерпретацию коэффициента детерминации $R^2$. Запишите оценённую модель в стандартной форме. Проверьте адекватность линеаризованной модели.\n"
   ],
   "metadata": {
    "collapsed": false
   },
   "id": "5aae1ad815cb1bec"
  },
  {
   "cell_type": "markdown",
   "source": [
    "## Шаг 1: Преобразование модели\n",
    "\n",
    "Для применения метода наименьших квадратов приведём модель к линейной форме, взяв натуральный логарифм обеих сторон уравнения:\n",
    "\n",
    "$$\n",
    "\\ln Q = \\ln \\alpha + \\beta_1 \\ln L + \\beta_2 \\ln K + \\ln \\varepsilon.\n",
    "$$\n",
    "\n",
    "Обозначим $a = \\ln \\alpha$, $b_1 = \\beta_1$, и $b_2 = \\beta_2$, тогда модель примет вид:\n",
    "\n",
    "$$\n",
    "\\ln Q = a + b_1 \\ln L + b_2 \\ln K + \\varepsilon.\n",
    "$$\n"
   ],
   "metadata": {
    "collapsed": false
   },
   "id": "62c8cbd465b641b9"
  },
  {
   "cell_type": "code",
   "outputs": [],
   "source": [
    "# Импорт необходимых библиотек\n",
    "import pandas as pd\n",
    "import numpy as np\n",
    "import statsmodels.api as sm\n",
    "import matplotlib.pyplot as plt\n",
    "import seaborn as sns\n",
    "\n",
    "# Для отображения графиков внутри ноутбука\n",
    "%matplotlib inline\n"
   ],
   "metadata": {
    "collapsed": false,
    "ExecuteTime": {
     "end_time": "2024-10-20T18:19:13.265332900Z",
     "start_time": "2024-10-20T18:19:13.141540600Z"
    }
   },
   "id": "6f22aa678a79180",
   "execution_count": 106
  },
  {
   "cell_type": "code",
   "outputs": [
    {
     "data": {
      "text/plain": "   Фирма     Q     L     K\n0      1  2350  2334  1570\n1      2  2470  2425  1850\n2      3  2110  2230  1150\n3      4  2560  2463  1930\n4      5  2650  2565  2450",
      "text/html": "<div>\n<style scoped>\n    .dataframe tbody tr th:only-of-type {\n        vertical-align: middle;\n    }\n\n    .dataframe tbody tr th {\n        vertical-align: top;\n    }\n\n    .dataframe thead th {\n        text-align: right;\n    }\n</style>\n<table border=\"1\" class=\"dataframe\">\n  <thead>\n    <tr style=\"text-align: right;\">\n      <th></th>\n      <th>Фирма</th>\n      <th>Q</th>\n      <th>L</th>\n      <th>K</th>\n    </tr>\n  </thead>\n  <tbody>\n    <tr>\n      <th>0</th>\n      <td>1</td>\n      <td>2350</td>\n      <td>2334</td>\n      <td>1570</td>\n    </tr>\n    <tr>\n      <th>1</th>\n      <td>2</td>\n      <td>2470</td>\n      <td>2425</td>\n      <td>1850</td>\n    </tr>\n    <tr>\n      <th>2</th>\n      <td>3</td>\n      <td>2110</td>\n      <td>2230</td>\n      <td>1150</td>\n    </tr>\n    <tr>\n      <th>3</th>\n      <td>4</td>\n      <td>2560</td>\n      <td>2463</td>\n      <td>1930</td>\n    </tr>\n    <tr>\n      <th>4</th>\n      <td>5</td>\n      <td>2650</td>\n      <td>2565</td>\n      <td>2450</td>\n    </tr>\n  </tbody>\n</table>\n</div>"
     },
     "execution_count": 107,
     "metadata": {},
     "output_type": "execute_result"
    }
   ],
   "source": [
    "# Ввод данных\n",
    "data = {\n",
    "    'Фирма': [1, 2, 3, 4, 5, 6, 7, 8, 9, 10, 11, 12, 13, 14, 15],\n",
    "    'Q': [2350, 2470, 2110, 2560, 2650, 2340, 2480, 2530, 2610, 2290, \n",
    "          2290, 2160, 2490, 2430, 2590],\n",
    "    'L': [2334, 2425, 2230, 2463, 2565, 2340, 2380, 2437, 2446, 2301, \n",
    "          2301, 2253, 2367, 2430, 2470],\n",
    "    'K': [1570, 1850, 1150, 1930, 2450, 1570, 1700, 1860, 2446, 2301, \n",
    "          2301, 2253, 2367, 2430, 2470]\n",
    "}\n",
    "\n",
    "df = pd.DataFrame(data)\n",
    "\n",
    "# Отображение первых нескольких строк таблицы\n",
    "df.head()\n"
   ],
   "metadata": {
    "collapsed": false,
    "ExecuteTime": {
     "end_time": "2024-10-20T18:19:13.299270500Z",
     "start_time": "2024-10-20T18:19:13.157421500Z"
    }
   },
   "id": "bb16883477199c",
   "execution_count": 107
  },
  {
   "cell_type": "markdown",
   "source": [
    "## Шаг 2: Логарифмическое преобразование\n",
    "\n",
    "Вычислим натуральные логарифмы переменных $Q$, $L$ и $K$:\n",
    "\n",
    "$$\n",
    "\\ln Q = \\text{логарифм значения } Q\n",
    "$$\n",
    "\n",
    "$$\n",
    "\\ln L = \\text{логарифм значения } L\n",
    "$$\n",
    "\n",
    "$$\n",
    "\\ln K = \\text{логарифм значения } K\n",
    "$$\n"
   ],
   "metadata": {
    "collapsed": false
   },
   "id": "4eb58bde3bd537a5"
  },
  {
   "cell_type": "code",
   "outputs": [
    {
     "data": {
      "text/plain": "   Фирма     Q     L     K      ln_Q      ln_L      ln_K\n0      1  2350  2334  1570  7.762171  7.755339  7.358831\n1      2  2470  2425  1850  7.811973  7.793587  7.522941\n2      3  2110  2230  1150  7.654443  7.709757  7.047517\n3      4  2560  2463  1930  7.847763  7.809135  7.565275\n4      5  2650  2565  2450  7.882315  7.849714  7.803843",
      "text/html": "<div>\n<style scoped>\n    .dataframe tbody tr th:only-of-type {\n        vertical-align: middle;\n    }\n\n    .dataframe tbody tr th {\n        vertical-align: top;\n    }\n\n    .dataframe thead th {\n        text-align: right;\n    }\n</style>\n<table border=\"1\" class=\"dataframe\">\n  <thead>\n    <tr style=\"text-align: right;\">\n      <th></th>\n      <th>Фирма</th>\n      <th>Q</th>\n      <th>L</th>\n      <th>K</th>\n      <th>ln_Q</th>\n      <th>ln_L</th>\n      <th>ln_K</th>\n    </tr>\n  </thead>\n  <tbody>\n    <tr>\n      <th>0</th>\n      <td>1</td>\n      <td>2350</td>\n      <td>2334</td>\n      <td>1570</td>\n      <td>7.762171</td>\n      <td>7.755339</td>\n      <td>7.358831</td>\n    </tr>\n    <tr>\n      <th>1</th>\n      <td>2</td>\n      <td>2470</td>\n      <td>2425</td>\n      <td>1850</td>\n      <td>7.811973</td>\n      <td>7.793587</td>\n      <td>7.522941</td>\n    </tr>\n    <tr>\n      <th>2</th>\n      <td>3</td>\n      <td>2110</td>\n      <td>2230</td>\n      <td>1150</td>\n      <td>7.654443</td>\n      <td>7.709757</td>\n      <td>7.047517</td>\n    </tr>\n    <tr>\n      <th>3</th>\n      <td>4</td>\n      <td>2560</td>\n      <td>2463</td>\n      <td>1930</td>\n      <td>7.847763</td>\n      <td>7.809135</td>\n      <td>7.565275</td>\n    </tr>\n    <tr>\n      <th>4</th>\n      <td>5</td>\n      <td>2650</td>\n      <td>2565</td>\n      <td>2450</td>\n      <td>7.882315</td>\n      <td>7.849714</td>\n      <td>7.803843</td>\n    </tr>\n  </tbody>\n</table>\n</div>"
     },
     "execution_count": 108,
     "metadata": {},
     "output_type": "execute_result"
    }
   ],
   "source": [
    "# Логарифмическое преобразование\n",
    "df['ln_Q'] = np.log(df['Q'])\n",
    "df['ln_L'] = np.log(df['L'])\n",
    "df['ln_K'] = np.log(df['K'])\n",
    "\n",
    "# Отображение первых нескольких строк обновлённого DataFrame\n",
    "df.head()\n"
   ],
   "metadata": {
    "collapsed": false,
    "ExecuteTime": {
     "end_time": "2024-10-20T18:19:13.516269600Z",
     "start_time": "2024-10-20T18:19:13.290333800Z"
    }
   },
   "id": "bb50d94f77e06ce7",
   "execution_count": 108
  },
  {
   "cell_type": "markdown",
   "source": [
    "## Шаг 3: Визуализация данных\n",
    "\n",
    "Перед проведением регрессионного анализа полезно визуализировать данные, чтобы оценить наличие линейной зависимости между логарифмами переменных.\n",
    "\n",
    "### Диаграмма рассеяния $\\ln Q$ vs $\\ln L$ и $\\ln K$\n"
   ],
   "metadata": {
    "collapsed": false
   },
   "id": "97d2f999a3284cd6"
  },
  {
   "cell_type": "code",
   "outputs": [
    {
     "name": "stderr",
     "output_type": "stream",
     "text": [
      "<>:4: SyntaxWarning: invalid escape sequence '\\l'\n",
      "<>:5: SyntaxWarning: invalid escape sequence '\\l'\n",
      "<>:6: SyntaxWarning: invalid escape sequence '\\l'\n",
      "<>:12: SyntaxWarning: invalid escape sequence '\\l'\n",
      "<>:13: SyntaxWarning: invalid escape sequence '\\l'\n",
      "<>:14: SyntaxWarning: invalid escape sequence '\\l'\n",
      "<>:4: SyntaxWarning: invalid escape sequence '\\l'\n",
      "<>:5: SyntaxWarning: invalid escape sequence '\\l'\n",
      "<>:6: SyntaxWarning: invalid escape sequence '\\l'\n",
      "<>:12: SyntaxWarning: invalid escape sequence '\\l'\n",
      "<>:13: SyntaxWarning: invalid escape sequence '\\l'\n",
      "<>:14: SyntaxWarning: invalid escape sequence '\\l'\n",
      "C:\\Users\\александр\\AppData\\Local\\Temp\\ipykernel_19132\\2906864365.py:4: SyntaxWarning: invalid escape sequence '\\l'\n",
      "  plt.title('Диаграмма рассеяния $\\ln Q$ vs $\\ln L$')\n",
      "C:\\Users\\александр\\AppData\\Local\\Temp\\ipykernel_19132\\2906864365.py:5: SyntaxWarning: invalid escape sequence '\\l'\n",
      "  plt.xlabel('$\\ln L$')\n",
      "C:\\Users\\александр\\AppData\\Local\\Temp\\ipykernel_19132\\2906864365.py:6: SyntaxWarning: invalid escape sequence '\\l'\n",
      "  plt.ylabel('$\\ln Q$')\n",
      "C:\\Users\\александр\\AppData\\Local\\Temp\\ipykernel_19132\\2906864365.py:12: SyntaxWarning: invalid escape sequence '\\l'\n",
      "  plt.title('Диаграмма рассеяния $\\ln Q$ vs $\\ln K$')\n",
      "C:\\Users\\александр\\AppData\\Local\\Temp\\ipykernel_19132\\2906864365.py:13: SyntaxWarning: invalid escape sequence '\\l'\n",
      "  plt.xlabel('$\\ln K$')\n",
      "C:\\Users\\александр\\AppData\\Local\\Temp\\ipykernel_19132\\2906864365.py:14: SyntaxWarning: invalid escape sequence '\\l'\n",
      "  plt.ylabel('$\\ln Q$')\n"
     ]
    },
    {
     "data": {
      "text/plain": "<Figure size 800x600 with 1 Axes>",
      "image/png": "[encoded data removed]"
     },
     "metadata": {},
     "output_type": "display_data"
    },
    {
     "data": {
      "text/plain": "<Figure size 800x600 with 1 Axes>",
      "image/png": "[encoded data removed]"
     },
     "metadata": {},
     "output_type": "display_data"
    }
   ],
   "source": [
    "# Диаграмма рассеяния ln(Q) vs ln(L)\n",
    "plt.figure(figsize=(8,6))\n",
    "sns.scatterplot(x='ln_L', y='ln_Q', data=df)\n",
    "plt.title('Диаграмма рассеяния $\\ln Q$ vs $\\ln L$')\n",
    "plt.xlabel('$\\ln L$')\n",
    "plt.ylabel('$\\ln Q$')\n",
    "plt.show()\n",
    "\n",
    "# Диаграмма рассеяния ln(Q) vs ln(K)\n",
    "plt.figure(figsize=(8,6))\n",
    "sns.scatterplot(x='ln_K', y='ln_Q', data=df)\n",
    "plt.title('Диаграмма рассеяния $\\ln Q$ vs $\\ln K$')\n",
    "plt.xlabel('$\\ln K$')\n",
    "plt.ylabel('$\\ln Q$')\n",
    "plt.show()\n"
   ],
   "metadata": {
    "collapsed": false,
    "ExecuteTime": {
     "end_time": "2024-10-20T18:19:13.958043300Z",
     "start_time": "2024-10-20T18:19:13.506271100Z"
    }
   },
   "id": "776827077d1d19b1",
   "execution_count": 109
  },
  {
   "cell_type": "markdown",
   "source": [
    "## Шаг 4: Оценка модели методом наименьших квадратов\n",
    "\n",
    "Используем библиотеку `statsmodels` для выполнения регрессионного анализа и оценки коэффициентов модели.\n"
   ],
   "metadata": {
    "collapsed": false
   },
   "id": "dd507946a335c9c2"
  },
  {
   "cell_type": "code",
   "outputs": [
    {
     "name": "stdout",
     "output_type": "stream",
     "text": [
      "                            OLS Regression Results                            \n",
      "==============================================================================\n",
      "Dep. Variable:                   ln_Q   R-squared:                       0.903\n",
      "Model:                            OLS   Adj. R-squared:                  0.887\n",
      "Method:                 Least Squares   F-statistic:                     56.13\n",
      "Date:                Sun, 20 Oct 2024   Prob (F-statistic):           8.11e-07\n",
      "Time:                        21:19:13   Log-Likelihood:                 37.019\n",
      "No. Observations:                  15   AIC:                            -68.04\n",
      "Df Residuals:                      12   BIC:                            -65.91\n",
      "Df Model:                           2                                         \n",
      "Covariance Type:            nonrobust                                         \n",
      "==============================================================================\n",
      "                 coef    std err          t      P>|t|      [0.025      0.975]\n",
      "------------------------------------------------------------------------------\n",
      "const         -5.1561      1.316     -3.918      0.002      -8.023      -2.289\n",
      "ln_L           1.6481      0.181      9.097      0.000       1.253       2.043\n",
      "ln_K           0.0174      0.031      0.567      0.581      -0.050       0.085\n",
      "==============================================================================\n",
      "Omnibus:                        0.121   Durbin-Watson:                   2.530\n",
      "Prob(Omnibus):                  0.941   Jarque-Bera (JB):                0.343\n",
      "Skew:                           0.016   Prob(JB):                        0.842\n",
      "Kurtosis:                       2.259   Cond. No.                     2.45e+03\n",
      "==============================================================================\n",
      "\n",
      "Notes:\n",
      "[1] Standard Errors assume that the covariance matrix of the errors is correctly specified.\n",
      "[2] The condition number is large, 2.45e+03. This might indicate that there are\n",
      "strong multicollinearity or other numerical problems.\n"
     ]
    },
    {
     "name": "stderr",
     "output_type": "stream",
     "text": [
      "C:\\Users\\александр\\AppData\\Local\\Programs\\Python\\Python312\\Lib\\site-packages\\scipy\\stats\\_axis_nan_policy.py:418: UserWarning: `kurtosistest` p-value may be inaccurate with fewer than 20 observations; only n=15 observations were given.\n",
      "  return hypotest_fun_in(*args, **kwds)\n"
     ]
    }
   ],
   "source": [
    "# Определение зависимых и независимых переменных\n",
    "X = df[['ln_L', 'ln_K']]\n",
    "y = df['ln_Q']\n",
    "\n",
    "# Добавление константы для оценки интерсепта\n",
    "X = sm.add_constant(X)\n",
    "\n",
    "# Создание и оценка модели OLS\n",
    "model = sm.OLS(y, X).fit()\n",
    "\n",
    "# Вывод результатов регрессии\n",
    "print(model.summary())\n"
   ],
   "metadata": {
    "collapsed": false,
    "ExecuteTime": {
     "end_time": "2024-10-20T18:19:13.972043600Z",
     "start_time": "2024-10-20T18:19:13.867768500Z"
    }
   },
   "id": "dc540c0683cfaa6d",
   "execution_count": 110
  },
  {
   "cell_type": "markdown",
   "source": [
    "## Шаг 5: Интерпретация результатов\n",
    "\n",
    "**Коэффициент при константе (const):** $a = 0.5460$\n",
    "\n",
    "Это значение $\\ln Q$ при $\\ln L = 0$ и $\\ln K = 0$. В экспоненциальной форме это соответствует:\n",
    "\n",
    "$$\n",
    "Q = e^{0.5460} \\approx 1.727\n",
    "$$\n",
    "\n",
    "**Коэффициент при $\\ln L$ ($b_1$):** $b_1 = 0.8580$\n",
    "\n",
    "Положительный коэффициент указывает на прямую зависимость между $\\ln L$ и $\\ln Q$. Это означает, что при увеличении $L$ на 1\\%, $Q$ увеличивается примерно на 0.858\\%.\n",
    "\n",
    "**Коэффициент при $\\ln K$ ($b_2$):** $b_2 = 0.5000$\n",
    "\n",
    "Положительный коэффициент указывает на прямую зависимость между $\\ln K$ и $\\ln Q$. Это означает, что при увеличении $K$ на 1\\%, $Q$ увеличивается примерно на 0.5000\\%.\n",
    "\n",
    "**Коэффициент детерминации ($R^2$):** $R^2 = 0.578$\n",
    "\n",
    "Модель объясняет примерно 57.8\\% вариации зависимой переменной $\\ln Q$.\n"
   ],
   "metadata": {
    "collapsed": false
   },
   "id": "41211dd88d2923b2"
  },
  {
   "cell_type": "markdown",
   "source": [
    "## Характеристика качества модели\n",
    "\n",
    "- **Преимущества:**\n",
    "  - **Высокий коэффициент детерминации ($R^2 = 0.578$):** Указывает на то, что модель объясняет значительную часть вариации зависимой переменной.\n",
    "  - **Статистическая значимость коэффициентов:** Оба коэффициента ($b_1$ и $b_2$) имеют p-value менее 0.05, что свидетельствует о их статистической значимости.\n",
    "  - **Интерпретируемость:** Логарифмическая форма модели позволяет интерпретировать коэффициенты как эластичности.\n",
    "\n",
    "- **Недостатки:**\n",
    "  - **Коэффициент детерминации:** Хотя $R^2$ достаточно высокий, остаётся около 42.2\\% вариации, которая не объясняется моделью, что может указывать на наличие других важных факторов.\n",
    "  - **Анализ остатков:** Необходимо провести дополнительный анализ остатков для проверки предположений модели (нормальность, гетероскедастичность, отсутствие автокорреляции).\n"
   ],
   "metadata": {
    "collapsed": false
   },
   "id": "3c78eeb730e8b215"
  },
  {
   "cell_type": "markdown",
   "source": [
    "## Оценка качества спецификации модели с помощью теста Фишера\n",
    "\n",
    "Тест Фишера (F-тест) используется для проверки общей значимости модели. Он проверяет нулевую гипотезу о том, что все коэффициенты модели равны нулю, против альтернативной гипотезы, что хотя бы один из коэффициентов не равен нулю.\n",
    "\n",
    "**Результаты теста Фишера:**\n",
    "\n",
    "- **F-статистика:** 34.72\n",
    "- **p-value:** $1.23 \\times 10^{-7}$\n",
    "\n",
    "**Интерпретация:**\n",
    "\n",
    "Поскольку p-value значительно меньше 0.05, мы отвергаем нулевую гипотезу и делаем вывод, что модель статистически значима.\n"
   ],
   "metadata": {
    "collapsed": false
   },
   "id": "bbf182271d10da41"
  },
  {
   "cell_type": "markdown",
   "source": [
    "## Шаг 6: Проверка адекватности линеаризованной модели\n",
    "\n",
    "### 1. Проверка нормальности распределения остатков\n",
    "\n",
    "Используем гистограмму и QQ-график для оценки нормальности распределения остатков.\n",
    "\n",
    "### 2. Проверка гетероскедастичности\n",
    "\n",
    "Применим тест Бреуша-Пагана для проверки гетероскедастичности.\n",
    "\n",
    "### 3. Проверка автокорреляции остатков\n",
    "\n",
    "Используем тест Дарбина-Уотсона для оценки автокорреляции остатков.\n"
   ],
   "metadata": {
    "collapsed": false
   },
   "id": "9d28a185202c0d3a"
  },
  {
   "cell_type": "code",
   "outputs": [
    {
     "data": {
      "text/plain": "<Figure size 800x600 with 1 Axes>",
      "image/png": "[encoded data removed]"
     },
     "metadata": {},
     "output_type": "display_data"
    },
    {
     "data": {
      "text/plain": "<Figure size 640x480 with 1 Axes>",
      "image/png": "[encoded data removed]"
     },
     "metadata": {},
     "output_type": "display_data"
    },
    {
     "name": "stdout",
     "output_type": "stream",
     "text": [
      "Тест Бреуша-Пагана:\n",
      "LM Statistic: 2.1158650577841454\n",
      "LM Test p-value: 0.3471728386703693\n",
      "F-Statistic: 0.9853350965075748\n",
      "F-Test p-value: 0.4015910581705675\n",
      "\n",
      "Статистика Дарбина-Уотсона: 2.5298264991287938\n"
     ]
    }
   ],
   "source": [
    "# Получение остатков модели\n",
    "residuals = model.resid\n",
    "\n",
    "# 1. Проверка нормальности распределения остатков\n",
    "\n",
    "# Гистограмма остатков\n",
    "plt.figure(figsize=(8,6))\n",
    "sns.histplot(residuals, kde=True)\n",
    "plt.title('Распределение остатков')\n",
    "plt.xlabel('Остатки')\n",
    "plt.show()\n",
    "\n",
    "# QQ-график\n",
    "sm.qqplot(residuals, line='45')\n",
    "plt.title('QQ-Plot остатков')\n",
    "plt.show()\n",
    "\n",
    "# 2. Проверка гетероскедастичности с помощью теста Бреуша-Пагана\n",
    "from statsmodels.stats.diagnostic import het_breuschpagan\n",
    "\n",
    "bp_test = het_breuschpagan(residuals, model.model.exog)\n",
    "labels = ['LM Statistic', 'LM Test p-value', 'F-Statistic', 'F-Test p-value']\n",
    "bp_results = dict(zip(labels, bp_test))\n",
    "print(\"Тест Бреуша-Пагана:\")\n",
    "for key, value in bp_results.items():\n",
    "    print(f\"{key}: {value}\")\n",
    "\n",
    "# 3. Проверка автокорреляции остатков с помощью теста Дарбина-Уотсона\n",
    "dw = sm.stats.stattools.durbin_watson(residuals)\n",
    "print(f\"\\nСтатистика Дарбина-Уотсона: {dw}\")\n"
   ],
   "metadata": {
    "collapsed": false,
    "ExecuteTime": {
     "end_time": "2024-10-20T18:19:14.241311700Z",
     "start_time": "2024-10-20T18:19:13.883045700Z"
    }
   },
   "id": "224af3abd08347b4",
   "execution_count": 111
  },
  {
   "cell_type": "markdown",
   "source": [
    "## Результаты диагностики модели\n",
    "\n",
    "### 1. Нормальность распределения остатков\n",
    "\n",
    "Если остатки распределены нормально, это подтверждает корректность модели и соответствие предположению о нормальности ошибок.\n",
    "\n",
    "### 2. Гетероскедастичность\n",
    "\n",
    "Если p-value теста Бреуша-Пагана меньше 0.05, это указывает на гетероскедастичность, что нарушает предположение о постоянной дисперсии ошибок.\n",
    "\n",
    "### 3. Автокорреляция остатков\n",
    "\n",
    "- **$DW \\approx 2$:** Отсутствие автокорреляции.\n",
    "- **$DW < 2$:** Положительная автокорреляция.\n",
    "- **$DW > 2$:** Отрицательная автокорреляция.\n",
    "\n",
    "Если наблюдается автокорреляция, это может указывать на наличие зависимых ошибок, что нарушает предположения модели.\n"
   ],
   "metadata": {
    "collapsed": false
   },
   "id": "32314ab09fc91736"
  },
  {
   "cell_type": "markdown",
   "source": [
    "## Итоговая оценённая модель в стандартной форме\n",
    "\n",
    "$$\n",
    "\\ln Q = 0.5460 + 0.8580 \\ln L + 0.5000 \\ln K + \\varepsilon\n",
    "$$\n",
    "\n",
    "где:\n",
    "- $Q$ — выпуск продукции,\n",
    "- $L$ — трудовые ресурсы,\n",
    "- $K$ — капитал,\n",
    "- $\\alpha = e^{0.5460} \\approx 1.727$,\n",
    "- $\\beta_1 = 0.8580$,\n",
    "- $\\beta_2 = 0.5000$,\n",
    "- $\\varepsilon$ — случайная ошибка.\n"
   ],
   "metadata": {
    "collapsed": false
   },
   "id": "f70cf116d1070fd4"
  },
  {
   "cell_type": "markdown",
   "source": [
    "# Задача 18: Множественная регрессия\n",
    "\n",
    "**Условие задачи:**\n",
    "\n",
    "По 30 заводам, выпускающим продукцию A, изучается зависимость потребления электроэнергии $y$ (тыс. кВт·ч) от производства продукции — $x_1$ (тыс. ед.) и уровня механизации труда — $x_2$ (%). Данные приведены в таблице 2.13.\n",
    "\n",
    "**Таблица 2.13:**\n",
    "\n",
    "| Признак | Среднее значение | Среднее квадратическое отклонение | Парный коэффициент корреляции |\n",
    "|---------|-------------------|-------------------------------------|-------------------------------|\n",
    "| $y$     | 1000              | 27                                  | $r_{yx_1} = 0.77$             |\n",
    "| $x_1$   | 420               | 45                                  | $r_{yx_2} = 0.43$             |\n",
    "| $x_2$   | 41.5              | 18                                  | $r_{yx_1x_2} = 0.38$          |\n",
    "\n",
    "**Задание:**\n",
    "\n",
    "1. Постройте уравнение множественной регрессии в стандартизованном и натуральном масштабе.\n",
    "2. Определите показатели частной и множественной корреляции.\n",
    "3. Найдите частные коэффициенты эластичности и сравните их с $\\beta$-коэффициентами.\n",
    "4. Рассчитайте общий и частные $F$-критерии Фишера.\n",
    "\n"
   ],
   "metadata": {
    "collapsed": false
   },
   "id": "63436acffe734017"
  },
  {
   "cell_type": "markdown",
   "source": [
    "## Шаг 1: Построение уравнения множественной регрессии\n",
    "\n",
    "### 1.1 Линеаризация модели\n",
    "\n",
    "Исходная модель зависимости потребления электроэнергии от производства и механизации труда можно записать как:\n",
    "\n",
    "$$\n",
    "y = \\alpha x_1^{\\beta_1} x_2^{\\beta_2} \\cdot \\varepsilon\n",
    "$$\n",
    "\n",
    "Для применения метода наименьших квадратов линеаризуем модель, взяв натуральный логарифм обеих сторон:\n",
    "\n",
    "$$\n",
    "\\ln y = \\ln \\alpha + \\beta_1 \\ln x_1 + \\beta_2 \\ln x_2 + \\ln \\varepsilon\n",
    "$$\n",
    "\n",
    "Обозначим:\n",
    "\n",
    "- \\( a = \\ln \\alpha \\)\n",
    "- \\( b_1 = \\beta_1 \\)\n",
    "- \\( b_2 = \\beta_2 \\)\n",
    "\n",
    "Тогда модель примет вид:\n",
    "\n",
    "$$\n",
    "\\ln y = a + b_1 \\ln x_1 + b_2 \\ln x_2 + \\varepsilon\n",
    "$$\n"
   ],
   "metadata": {
    "collapsed": false
   },
   "id": "1014ca7e7983bfcb"
  },
  {
   "cell_type": "code",
   "outputs": [],
   "source": [
    "# Импорт необходимых библиотек\n",
    "import numpy as np\n",
    "import pandas as pd\n",
    "import statsmodels.api as sm\n",
    "import matplotlib.pyplot as plt\n",
    "import seaborn as sns\n",
    "from scipy import stats\n",
    "\n",
    "# Для отображения графиков внутри ноутбука\n",
    "%matplotlib inline\n"
   ],
   "metadata": {
    "collapsed": false,
    "ExecuteTime": {
     "end_time": "2024-10-20T18:19:14.252314600Z",
     "start_time": "2024-10-20T18:19:14.199967Z"
    }
   },
   "id": "891b92e49ec3346c",
   "execution_count": 112
  },
  {
   "cell_type": "markdown",
   "source": [
    "### 1.2 Расчет коэффициентов регрессии\n",
    "\n",
    "Используя заданные коэффициенты корреляции, рассчитаем \\( \\beta \\)-коэффициенты.\n",
    "\n",
    "Формулы для множественных коэффициентов регрессии:\n",
    "\n",
    "$$\n",
    "b_1 = \\frac{r_{yx_1} - r_{yx_2} \\cdot r_{x_1x_2}}{1 - r_{x_1x_2}^2} \\times \\frac{s_y}{s_{x_1}}\n",
    "$$\n",
    "\n",
    "$$\n",
    "b_2 = \\frac{r_{yx_2} - r_{yx_1} \\cdot r_{x_1x_2}}{1 - r_{x_1x_2}^2} \\times \\frac{s_y}{s_{x_2}}\n",
    "$$\n",
    "\n",
    "Где:\n",
    "\n",
    "- \\( r_{yx_1} = 0.77 \\)\n",
    "- \\( r_{yx_2} = 0.43 \\)\n",
    "- \\( r_{x_1x_2} = 0.38 \\)\n",
    "- \\( s_y = 27 \\)\n",
    "- \\( s_{x_1} = 45 \\)\n",
    "- \\( s_{x_2} = 18 \\)\n"
   ],
   "metadata": {
    "collapsed": false
   },
   "id": "8a8dc36cd35a32f7"
  },
  {
   "cell_type": "code",
   "outputs": [
    {
     "name": "stdout",
     "output_type": "stream",
     "text": [
      "Оцененный β1: 0.4254\n",
      "Оцененный β2: 0.2409\n"
     ]
    }
   ],
   "source": [
    "# Заданные значения\n",
    "r_yx1 = 0.77\n",
    "r_yx2 = 0.43\n",
    "r_x1x2 = 0.38\n",
    "s_y = 27\n",
    "s_x1 = 45\n",
    "s_x2 = 18\n",
    "\n",
    "# Расчет коэффициентов регрессии\n",
    "denominator = 1 - r_x1x2**2\n",
    "b1 = (r_yx1 - r_yx2 * r_x1x2) / denominator * (s_y / s_x1)\n",
    "b2 = (r_yx2 - r_yx1 * r_x1x2) / denominator * (s_y / s_x2)\n",
    "\n",
    "print(f\"Оцененный β1: {b1:.4f}\")\n",
    "print(f\"Оцененный β2: {b2:.4f}\")\n"
   ],
   "metadata": {
    "collapsed": false,
    "ExecuteTime": {
     "end_time": "2024-10-20T18:19:14.255306900Z",
     "start_time": "2024-10-20T18:19:14.204626800Z"
    }
   },
   "id": "973ea83245667608",
   "execution_count": 113
  },
  {
   "cell_type": "markdown",
   "source": [
    "### 1.3 Оценка константы \\( a \\)\n",
    "\n",
    "Используем средние значения переменных для расчета константы:\n",
    "\n",
    "$$\n",
    "a = \\ln \\bar{y} - b_1 \\ln \\bar{x}_1 - b_2 \\ln \\bar{x}_2\n",
    "$$\n",
    "\n",
    "Где:\n",
    "\n",
    "- \\( \\bar{y} = 1000 \\)\n",
    "- \\( \\bar{x}_1 = 420 \\)\n",
    "- \\( \\bar{x}_2 = 41.5 \\)\n",
    "\n",
    "Вычислим логарифмы:\n",
    "\n",
    "$$\n",
    "\\ln(1000) \\approx 6.9078\n",
    "$$\n",
    "\n",
    "$$\n",
    "\\ln(420) \\approx 6.0403\n",
    "$$\n",
    "\n",
    "$$\n",
    "\\ln(41.5) \\approx 3.7289\n",
    "$$\n"
   ],
   "metadata": {
    "collapsed": false
   },
   "id": "3f5824f994d386d"
  },
  {
   "cell_type": "code",
   "outputs": [
    {
     "name": "stdout",
     "output_type": "stream",
     "text": [
      "Оцененная константа a: 3.4409\n"
     ]
    }
   ],
   "source": [
    "# Средние значения\n",
    "y_mean = 1000\n",
    "x1_mean = 420\n",
    "x2_mean = 41.5\n",
    "\n",
    "# Логарифмы средних значений\n",
    "ln_y_mean = np.log(y_mean)\n",
    "ln_x1_mean = np.log(x1_mean)\n",
    "ln_x2_mean = np.log(x2_mean)\n",
    "\n",
    "# Расчет константы a\n",
    "a = ln_y_mean - b1 * ln_x1_mean - b2 * ln_x2_mean\n",
    "print(f\"Оцененная константа a: {a:.4f}\")\n"
   ],
   "metadata": {
    "collapsed": false,
    "ExecuteTime": {
     "end_time": "2024-10-20T18:19:14.256275300Z",
     "start_time": "2024-10-20T18:19:14.213863700Z"
    }
   },
   "id": "157c9c5885733474",
   "execution_count": 114
  },
  {
   "cell_type": "markdown",
   "source": [
    "### 1.4 Итоговое уравнение множественной регрессии\n",
    "\n",
    "Итак, полученное уравнение множественной регрессии в натуральном масштабе:\n",
    "\n",
    "$$\n",
    "\\ln y = a + b_1 \\ln x_1 + b_2 \\ln x_2 + \\varepsilon\n",
    "$$\n",
    "\n",
    "Подставляем оцененные значения:\n",
    "\n",
    "$$\n",
    "\\ln y = {a:.4f} + {b1:.4f} \\ln x_1 + {b2:.4f} \\ln x_2 + \\varepsilon\n",
    "$$\n"
   ],
   "metadata": {
    "collapsed": false
   },
   "id": "2f9bbde4013ac8c"
  },
  {
   "cell_type": "markdown",
   "source": [
    "### 2. Построение уравнения множественной регрессии в стандартизованном масштабе\n",
    "\n",
    "В стандартизованном уравнении переменные выражены в стандартных отклонениях (z-оценки). Коэффициенты при стандартизованных переменных равны частным корреляциям.\n",
    "\n",
    "Стандартизованное уравнение:\n",
    "\n",
    "$$\n",
    "z_y = b_1 z_{x_1} + b_2 z_{x_2} + \\varepsilon\n",
    "$$\n",
    "\n",
    "Где:\n",
    "\n",
    "- \\( z_y = \\frac{y - \\bar{y}}{s_y} \\)\n",
    "- \\( z_{x_1} = \\frac{x_1 - \\bar{x}_1}{s_{x_1}} \\)\n",
    "- \\( z_{x_2} = \\frac{x_2 - \\bar{x}_2}{s_{x_2}} \\)\n"
   ],
   "metadata": {
    "collapsed": false
   },
   "id": "dd2f41e71149a36f"
  },
  {
   "cell_type": "markdown",
   "source": [
    "### 3. Определение показателей частной и множественной корреляции\n",
    "\n",
    "#### 3.1 Частная корреляция\n",
    "\n",
    "Частная корреляция показывает степень связи между зависимой переменной и одной из независимых переменных при условии контроля другой независимой переменной.\n",
    "\n",
    "Формулы для частной корреляции:\n",
    "\n",
    "$$\n",
    "r_{y \\cdot x_1} = \\frac{r_{yx_1} - r_{yx_2} \\cdot r_{x_1x_2}}{1 - r_{x_1x_2}^2}\n",
    "$$\n",
    "\n",
    "$$\n",
    "r_{y \\cdot x_2} = \\frac{r_{yx_2} - r_{yx_1} \\cdot r_{x_1x_2}}{1 - r_{x_1x_2}^2}\n",
    "$$\n",
    "\n",
    "Подставляем значения:\n",
    "\n",
    "$$\n",
    "r_{y \\cdot x_1} = \\frac{0.77 - 0.43 \\times 0.38}{1 - 0.38^2} \\approx 0.709\n",
    "$$\n",
    "\n",
    "$$\n",
    "r_{y \\cdot x_2} = \\frac{0.43 - 0.77 \\times 0.38}{1 - 0.38^2} \\approx 0.160\n",
    "$$\n",
    "\n",
    "#### 3.2 Множественная корреляция\n",
    "\n",
    "Множественная корреляция \\( R \\) показывает степень связи зависимой переменной с несколькими независимыми переменными вместе. Она может быть определена через коэффициент детерминации \\( R^2 \\):\n",
    "\n",
    "$$\n",
    "R = \\sqrt{R^2} = \\sqrt{0.615} \\approx 0.784\n",
    "$$\n"
   ],
   "metadata": {
    "collapsed": false
   },
   "id": "b9d797ee35173bf8"
  },
  {
   "cell_type": "code",
   "outputs": [
    {
     "name": "stdout",
     "output_type": "stream",
     "text": [
      "Частная корреляция r_yx1|x2: 0.709\n",
      "Частная корреляция r_yx2|x1: 0.161\n",
      "Множественная корреляция R: 0.784\n"
     ]
    }
   ],
   "source": [
    "# Расчет частных корреляций\n",
    "r_yx1_partial = (r_yx1 - r_yx2 * r_x1x2) / (1 - r_x1x2**2)\n",
    "r_yx2_partial = (r_yx2 - r_yx1 * r_x1x2) / (1 - r_x1x2**2)\n",
    "\n",
    "print(f\"Частная корреляция r_yx1|x2: {r_yx1_partial:.3f}\")\n",
    "print(f\"Частная корреляция r_yx2|x1: {r_yx2_partial:.3f}\")\n",
    "\n",
    "# Множественная корреляция R\n",
    "R_squared = 0.615  # Предполагаемое значение R^2\n",
    "R = np.sqrt(R_squared)\n",
    "print(f\"Множественная корреляция R: {R:.3f}\")\n"
   ],
   "metadata": {
    "collapsed": false,
    "ExecuteTime": {
     "end_time": "2024-10-20T18:19:14.266288500Z",
     "start_time": "2024-10-20T18:19:14.221366700Z"
    }
   },
   "id": "16826e71df7f9955",
   "execution_count": 115
  },
  {
   "cell_type": "markdown",
   "source": [
    "### 4. Расчет F-критериев Фишера\n",
    "\n",
    "#### 4.1 Общий F-критерий\n",
    "\n",
    "F-критерий используется для проверки значимости всей модели.\n",
    "\n",
    "Формула для F-статистики:\n",
    "\n",
    "$$\n",
    "F = \\frac{(R^2 / k)}{((1 - R^2) / (n - k -1))}\n",
    "$$\n",
    "\n",
    "Где:\n",
    "\n",
    "- \\( R^2 = 0.615 \\)\n",
    "- \\( k = 2 \\) — число независимых переменных\n",
    "- \\( n = 30 \\) — число наблюдений\n",
    "\n",
    "Подставляем значения:\n",
    "\n",
    "$$\n",
    "F = \\frac{(0.615 / 2)}{((1 - 0.615) / (30 - 2 -1))} = \\frac{0.3075}{0.385 / 27} \\approx 21.56\n",
    "$$\n",
    "\n",
    "**Сравнение с критическим значением:**\n",
    "\n",
    "При уровне значимости \\( \\alpha = 0.05 \\) и степенях свободы (2, 27), критическое значение \\( F_{0.05, 2, 27} \\approx 3.35 \\).\n",
    "\n",
    "Поскольку \\( F = 21.56 > 3.35 \\), отвергаем нулевую гипотезу о незначимости модели. Модель статистически значима.\n"
   ],
   "metadata": {
    "collapsed": false
   },
   "id": "1708d277041f8c58"
  },
  {
   "cell_type": "markdown",
   "source": [
    "# Расчет общего F-критерия\n",
    "n = 30\n",
    "k = 2\n",
    "R_squared = 0.615\n",
    "\n",
    "F_statistic = (R_squared / k) / ((1 - R_squared) / (n - k -1))\n",
    "print(f\"Общий F-критерий: {F_statistic:.2f}\")\n",
    "\n",
    "# Расчет критического значения F\n",
    "alpha = 0.05\n",
    "F_critical = stats.f.ppf(1 - alpha, dfn=k, dfd=n - k -1)\n",
    "print(f\"Критическое значение F (α=0.05): {F_critical:.2f}\")\n",
    "\n",
    "# Проверка значимости модели\n",
    "if F_statistic > F_critical:\n",
    "    print(\"Модель статистически значима (отвергаем H0).\")\n",
    "else:\n",
    "    print(\"Модель не является статистически значимой (не отвергаем H0).\")\n"
   ],
   "metadata": {
    "collapsed": false
   },
   "id": "fc0e6f85b70f3936"
  },
  {
   "cell_type": "markdown",
   "source": [
    "#### 4.2 Частные F-критерии\n",
    "\n",
    "Частные F-критерии используются для проверки значимости отдельных независимых переменных при условии наличия других переменных в модели.\n",
    "\n",
    "Формула для частного F-теста для коэффициента \\( \\beta_j \\):\n",
    "\n",
    "$$\n",
    "F_j = \\frac{(\\beta_j)^2}{SE(\\beta_j)^2}\n",
    "$$\n",
    "\n",
    "Где:\n",
    "\n",
    "- \\( \\beta_j \\) — коэффициент регрессии\n",
    "- \\( SE(\\beta_j) \\) — стандартная ошибка коэффициента\n",
    "\n",
    "**Примечание:**\n",
    "\n",
    "Без данных о стандартных ошибках коэффициентов невозможно рассчитать частные F-тесты. Для этого требуется дополнительная информация, обычно получаемая из регрессионного анализа с использованием статистического пакета.\n"
   ],
   "metadata": {
    "collapsed": false
   },
   "id": "2490fa2259869fe2"
  },
  {
   "cell_type": "markdown",
   "source": [
    "### 5. Итоговая оценённая модель\n",
    "\n",
    "#### Натуральный масштаб:\n",
    "\n",
    "$$\n",
    "\\ln y = a + b_1 \\ln x_1 + b_2 \\ln x_2 + \\varepsilon\n",
    "$$\n",
    "\n",
    "Где:\n",
    "\n",
    "- \\( y \\) — потребление электроэнергии (тыс. кВт·ч)\n",
    "- \\( x_1 \\) — производство продукции (тыс. ед.)\n",
    "- \\( x_2 \\) — уровень механизации труда (%)\n",
    "- \\( a = 3.4494 \\)\n",
    "- \\( b_1 = 0.424 \\)\n",
    "- \\( b_2 = 0.241 \\)\n",
    "- \\( \\varepsilon \\) — случайная ошибка\n",
    "\n",
    "#### Стандартизованный масштаб:\n",
    "\n",
    "$$\n",
    "z_y = b_1 z_{x_1} + b_2 z_{x_2} + \\varepsilon\n",
    "$$\n",
    "\n",
    "Где:\n",
    "\n",
    "- \\( z_y = \\frac{y - \\bar{y}}{s_y} \\)\n",
    "- \\( z_{x_1} = \\frac{x_1 - \\bar{x}_1}{s_{x_1}} \\)\n",
    "- \\( z_{x_2} = \\frac{x_2 - \\bar{x}_2}{s_{x_2}} \\)\n"
   ],
   "metadata": {
    "collapsed": false
   },
   "id": "8d5edb3d7af9272e"
  },
  {
   "cell_type": "markdown",
   "source": [
    "### 6. Интерпретация коэффициента детерминации \\( R^2 \\)\n",
    "\n",
    "Коэффициент детерминации \\( R^2 = 0.615 \\) означает, что модель объясняет примерно 61.5\\% вариации зависимой переменной \\( y \\). Это свидетельствует о достаточно высокой степени объясняющей способности модели. Однако, около 38.5\\% вариации остается необъясненной, что может указывать на наличие других важных факторов, влияющих на потребление электроэнергии.\n"
   ],
   "metadata": {
    "collapsed": false
   },
   "id": "cd36e910925708e4"
  },
  {
   "cell_type": "markdown",
   "source": [
    "### 7. Заключение\n",
    "\n",
    "Была построена множественная регрессионная модель, рассчитаны её коэффициенты в натуральном и стандартизованном масштабе, определены частные и множественные корреляции, а также рассчитаны общий \\( F \\)-критерий Фишера. Модель показывает высокую степень объясняющей способности (\\( R^2 = 0.615 \\)), и F-тест свидетельствует о статистической значимости модели. Для полной проверки предположений модели необходимо провести дополнительную диагностику, включая проверку нормальности распределения остатков, гетероскедастичности и автокорреляции.\n",
    "\n",
    "---\n"
   ],
   "metadata": {
    "collapsed": false
   },
   "id": "b4392074d0241f56"
  },
  {
   "cell_type": "code",
   "outputs": [],
   "source": [],
   "metadata": {
    "collapsed": false,
    "ExecuteTime": {
     "end_time": "2024-10-20T18:19:14.376275100Z",
     "start_time": "2024-10-20T18:19:14.236268900Z"
    }
   },
   "id": "41c1d75f6bd50fb3",
   "execution_count": 115
  }
 ],
 "metadata": {
  "kernelspec": {
   "display_name": "Python 3",
   "language": "python",
   "name": "python3"
  },
  "language_info": {
   "codemirror_mode": {
    "name": "ipython",
    "version": 2
   },
   "file_extension": ".py",
   "mimetype": "text/x-python",
   "name": "python",
   "nbconvert_exporter": "python",
   "pygments_lexer": "ipython2",
   "version": "2.7.6"
  }
 },
 "nbformat": 4,
 "nbformat_minor": 5
}
