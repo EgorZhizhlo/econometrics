{
 "cells": [
  {
   "cell_type": "markdown",
   "source": [
    "## Работу выполнил Осинский А. Студент группы ПМ23-2"
   ],
   "metadata": {
    "collapsed": false
   },
   "id": "c61652d0268165f5"
  },
  {
   "cell_type": "code",
   "outputs": [],
   "source": [
    "import numpy as np\n",
    "import pandas as pd\n",
    "import matplotlib.pyplot as plt\n",
    "import seaborn as sns\n",
    "import statsmodels.api as sm\n",
    "from scipy import stats\n",
    "\n",
    "# Настройка стилей графиков\n",
    "sns.set(style=\"whitegrid\")\n"
   ],
   "metadata": {
    "collapsed": false,
    "ExecuteTime": {
     "end_time": "2024-11-03T18:09:17.717842700Z",
     "start_time": "2024-11-03T18:09:17.679835800Z"
    }
   },
   "id": "f3b2ea317d5c4297",
   "execution_count": 13
  },
  {
   "cell_type": "markdown",
   "source": [
    "# Наилучшая Модель Филлипса для Португалии\n",
    "\n",
    "В данном ноутбуке мы построим и проанализируем модель Филлипса для Португалии на основе данных о **уровне инфляции** и **безработице** за период с 1980 по 2018 год. Основные шаги анализа включают:\n",
    "\n",
    "1. **Разбор алгоритмов Теста Jarque-Bera и Теста Колмогорова-Смирнова**\n",
    "2. **Проверка остатков модели на нормальность визуально и при помощи тестов: согласия Хельвига, Шапиро—Вилька, Jarque-Bera**\n",
    "3. **Теоретические условия применения каждого из тестов**\n",
    "4. **Проверка модели на адекватность**\n",
    "\n",
    "---\n"
   ],
   "metadata": {
    "collapsed": false
   },
   "id": "380389056cdd191"
  },
  {
   "cell_type": "markdown",
   "source": [
    "## Загрузка и Подготовка Данных\n",
    "\n",
    "Ниже представлены данные по уровню инфляции и безработице для Португалии за период с 1980 по 2018 год.\n"
   ],
   "metadata": {
    "collapsed": false
   },
   "id": "93e19b5bd85f292"
  },
  {
   "cell_type": "code",
   "outputs": [
    {
     "name": "stdout",
     "output_type": "stream",
     "text": [
      "Jarque-Bera Test for Inflation:\n",
      "Statistic: 18.1309, p-value: 0.0001\n",
      "\n",
      "Jarque-Bera Test for Unemployment:\n",
      "Statistic: 3.1665, p-value: 0.2053\n"
     ]
    }
   ],
   "source": [
    "import numpy as np\n",
    "import pandas as pd\n",
    "from scipy import stats\n",
    "\n",
    "# Ваши данные\n",
    "data = {\n",
    "    'Inflation': [5.9, 21.2, 22.7, 25.1, 29.3, 19.3, 11.7, 9.4, 9.6, 12.6, 13.4, \n",
    "                  11.4, 8.9, 5.9, 5.0, 4.0, 2.9, 1.9, 2.2, 2.2, 2.8, 4.4, \n",
    "                  3.7, 3.2, 2.5, 2.1, 3.0, 2.4, 2.6, -0.9, 1.4, 3.6, 2.8, \n",
    "                  0.4, -0.2, 0.5, 0.6, 1.6, 1.2],\n",
    "    'Unemployment': [7.8, -8.3, -7.5, 7.9, 10.5, -8.7, -8.6, -7.1, -7.1, -5.1, \n",
    "                     -4.2, -4.1, -3.9, 5.1, 6.3, 7.2, 7.3, -6.7, -4.9, -4.4, \n",
    "                     -3.9, 4.0, 5.0, 6.3, 6.6, 7.6, -7.6, 8.0, -7.6, 9.4, \n",
    "                     10.8, 12.7, 15.5, 16.2, -13.9, -12.4, -11.1, -8.9, \n",
    "                     -7.1]\n",
    "}\n",
    "\n",
    "df = pd.DataFrame(data)\n",
    "\n",
    "# Функция для расчета теста Jarque-Bera\n",
    "def jarque_bera_test(series):\n",
    "    jb_stat, jb_pvalue = stats.jarque_bera(series)\n",
    "    return jb_stat, jb_pvalue\n",
    "\n",
    "# Пример применения к уровню инфляции\n",
    "jb_stat_inf, jb_pvalue_inf = jarque_bera_test(df['Inflation'])\n",
    "print(f\"Jarque-Bera Test for Inflation:\")\n",
    "print(f\"Statistic: {jb_stat_inf:.4f}, p-value: {jb_pvalue_inf:.4f}\")\n",
    "\n",
    "# Пример применения к уровню безработицы\n",
    "jb_stat_unemp, jb_pvalue_unemp = jarque_bera_test(df['Unemployment'])\n",
    "print(f\"\\nJarque-Bera Test for Unemployment:\")\n",
    "print(f\"Statistic: {jb_stat_unemp:.4f}, p-value: {jb_pvalue_unemp:.4f}\")\n"
   ],
   "metadata": {
    "collapsed": false,
    "ExecuteTime": {
     "end_time": "2024-11-03T18:09:17.743360Z",
     "start_time": "2024-11-03T18:09:17.723843900Z"
    }
   },
   "id": "ad64a6928901fb1",
   "execution_count": 14
  },
  {
   "cell_type": "markdown",
   "source": [
    "## Разбор Алгоритмов Теста Jarque-Bera и Теста Колмогорова-Смирнова\n",
    "\n",
    "### Тест Jarque-Bera\n",
    "\n",
    "**Описание:**\n",
    "\n",
    "Тест Jarque-Bera (JB) используется для проверки нормальности распределения выборки. Он основан на измерении асимметрии (skewness) и эксцесса (kurtosis) распределения данных.\n",
    "\n",
    "- **Нулевая гипотеза (\\( H_0 \\))**: Данные распределены нормально.\n",
    "- **Альтернативная гипотеза (\\( H_1 \\))**: Данные не распределены нормально.\n",
    "\n",
    "**Формулы:**\n",
    "\n",
    "1. **Выборочное среднее (\\( \\mu \\)) и стандартное отклонение (\\( \\sigma \\)):**\n",
    "\n",
    "   $$\n",
    "   \\mu = \\frac{1}{n} \\sum_{i=1}^{n} x_i\n",
    "   $$\n",
    "\n",
    "   $$\n",
    "   \\sigma = \\sqrt{\\frac{1}{n} \\sum_{i=1}^{n} (x_i - \\mu)^2}\n",
    "   $$\n",
    "\n",
    "2. **Асимметрия (S):**\n",
    "\n",
    "   $$\n",
    "   S = \\frac{1}{n} \\sum_{i=1}^{n} \\left( \\frac{x_i - \\mu}{\\sigma} \\right)^3\n",
    "   $$\n",
    "\n",
    "3. **Эксцесс (K):**\n",
    "\n",
    "   $$\n",
    "   K = \\frac{1}{n} \\sum_{i=1}^{n} \\left( \\frac{x_i - \\mu}{\\sigma} \\right)^4\n",
    "   $$\n",
    "\n",
    "4. **Статистика Jarque-Bera (\\( JB \\)):**\n",
    "\n",
    "   $$\n",
    "   JB = \\frac{n}{6} \\left( S^2 + \\frac{(K - 3)^2}{4} \\right)\n",
    "   $$\n",
    "\n",
    "**Принятие решения:**\n",
    "\n",
    "Статистика JB следует распределению Хи-квадрат с 2 степенями свободы. Для уровня значимости \\( \\alpha = 0.05 \\) критическое значение составляет примерно 5.99.\n",
    "\n",
    "- Если \\( JB > 5.99 \\), отвергаем \\( H_0 \\).\n",
    "- Иначе, нет оснований отвергать \\( H_0 \\).\n",
    "\n",
    "---\n",
    "\n",
    "### Тест Колмогорова-Смирнова\n",
    "\n",
    "**Описание:**\n",
    "\n",
    "Тест Колмогорова-Смирнова (KS) используется для проверки соответствия эмпирического распределения данным теоретическому распределению (например, нормальному). Он измеряет максимальное отклонение между эмпирической функцией распределения (ECDF) и теоретической функцией распределения (CDF).\n",
    "\n",
    "- **Нулевая гипотеза (\\( H_0 \\))**: Данные соответствуют нормальному распределению.\n",
    "- **Альтернативная гипотеза (\\( H_1 \\))**: Данные не соответствуют нормальному распределению.\n",
    "\n",
    "**Формула:**\n",
    "\n",
    "Статистика KS определяется как максимальное абсолютное отклонение между ECDF и CDF:\n",
    "\n",
    "$$\n",
    "D = \\sup_x |ECDF(x) - CDF(x)|\n",
    "$$\n",
    "\n",
    "**Принятие решения:**\n",
    "\n",
    "- Если \\( p\\text{-value} < \\alpha \\), отвергаем \\( H_0 \\).\n",
    "- Иначе, нет оснований отвергать \\( H_0 \\).\n",
    "\n",
    "---\n",
    "\n",
    "## Построение Модели Филлипса\n",
    "\n",
    "Модель Филлипса описывает обратную зависимость между уровнем инфляции и уровнем безработицы. Мы построим простую линейную регрессию, где **инфляция** является зависимой переменной, а **безработица** — независимой.\n",
    "\n",
    "---\n"
   ],
   "metadata": {
    "collapsed": false
   },
   "id": "89074097c35dc8a"
  },
  {
   "cell_type": "code",
   "outputs": [
    {
     "name": "stdout",
     "output_type": "stream",
     "text": [
      "                            OLS Regression Results                            \n",
      "==============================================================================\n",
      "Dep. Variable:              Inflation   R-squared:                       0.007\n",
      "Model:                            OLS   Adj. R-squared:                 -0.020\n",
      "Method:                 Least Squares   F-statistic:                    0.2582\n",
      "Date:                Sun, 03 Nov 2024   Prob (F-statistic):              0.614\n",
      "Time:                        21:09:17   Log-Likelihood:                -133.58\n",
      "No. Observations:                  39   AIC:                             271.2\n",
      "Df Residuals:                      37   BIC:                             274.5\n",
      "Df Model:                           1                                         \n",
      "Covariance Type:            nonrobust                                         \n",
      "================================================================================\n",
      "                   coef    std err          t      P>|t|      [0.025      0.975]\n",
      "--------------------------------------------------------------------------------\n",
      "const            6.7277      1.222      5.505      0.000       4.251       9.204\n",
      "Unemployment    -0.0734      0.145     -0.508      0.614      -0.366       0.219\n",
      "==============================================================================\n",
      "Omnibus:                       17.659   Durbin-Watson:                   0.232\n",
      "Prob(Omnibus):                  0.000   Jarque-Bera (JB):               20.681\n",
      "Skew:                           1.563   Prob(JB):                     3.23e-05\n",
      "Kurtosis:                       4.717   Cond. No.                         8.46\n",
      "==============================================================================\n",
      "\n",
      "Notes:\n",
      "[1] Standard Errors assume that the covariance matrix of the errors is correctly specified.\n"
     ]
    }
   ],
   "source": [
    "# Подготовка данных для модели\n",
    "X = df['Unemployment']\n",
    "y = df['Inflation']\n",
    "\n",
    "# Добавление константы для модели (intercept)\n",
    "X = sm.add_constant(X)\n",
    "\n",
    "# Построение модели OLS\n",
    "model = sm.OLS(y, X).fit()\n",
    "\n",
    "# Вывод результатов модели\n",
    "print(model.summary())\n"
   ],
   "metadata": {
    "collapsed": false,
    "ExecuteTime": {
     "end_time": "2024-11-03T18:09:17.793756900Z",
     "start_time": "2024-11-03T18:09:17.734364Z"
    }
   },
   "id": "97aac02774e03bcf",
   "execution_count": 15
  },
  {
   "cell_type": "markdown",
   "source": [
    "## Проверка Остатков Модели на Нормальность\n",
    "\n",
    "Перед проведением статистических тестов важно визуально оценить распределение остатков модели. Для этого построим **гистограмму** и **Q-Q (квантиль-квантиль) график**.\n"
   ],
   "metadata": {
    "collapsed": false
   },
   "id": "9d6b24f7a1dba7cf"
  },
  {
   "cell_type": "code",
   "outputs": [
    {
     "data": {
      "text/plain": "<Figure size 1200x500 with 2 Axes>",
      "image/png": "[encoded data removed]"
     },
     "metadata": {},
     "output_type": "display_data"
    }
   ],
   "source": [
    "# Получение остатков модели\n",
    "residuals = model.resid\n",
    "\n",
    "# Функция для визуальной проверки нормальности\n",
    "def plot_normality(series, title):\n",
    "    plt.figure(figsize=(12, 5))\n",
    "    \n",
    "    # Гистограмма с наложенным нормальным распределением\n",
    "    plt.subplot(1, 2, 1)\n",
    "    sns.histplot(series, kde=True, stat=\"density\", color='skyblue', label='Эмпирическое распределение')\n",
    "    mu, sigma = np.mean(series), np.std(series, ddof=1)\n",
    "    xmin, xmax = plt.xlim()\n",
    "    x = np.linspace(xmin, xmax, 100)\n",
    "    p = stats.norm.pdf(x, mu, sigma)\n",
    "    plt.plot(x, p, 'r', linewidth=2, label='Нормальное распределение')\n",
    "    plt.title(f'{title} - Гистограмма')\n",
    "    plt.legend()\n",
    "    \n",
    "    # Q-Q график\n",
    "    plt.subplot(1, 2, 2)\n",
    "    sm.qqplot(series, line='s', ax=plt.gca(), markersize=5)\n",
    "    plt.title(f'{title} - Q-Q график')\n",
    "    \n",
    "    plt.tight_layout()\n",
    "    plt.show()\n",
    "\n",
    "# Визуализация для Остатков\n",
    "plot_normality(residuals, 'Остатки Модели Филлипса')\n"
   ],
   "metadata": {
    "collapsed": false,
    "ExecuteTime": {
     "end_time": "2024-11-03T18:09:18.201175300Z",
     "start_time": "2024-11-03T18:09:17.749757800Z"
    }
   },
   "id": "e4cb32b01d791bae",
   "execution_count": 16
  },
  {
   "cell_type": "markdown",
   "source": [
    "## Статистические Тесты на Нормальность Остатков\n",
    "\n",
    "Мы проведем следующие тесты для проверки нормальности распределения остатков:\n",
    "\n",
    "1. **Shapiro-Wilk Test**\n",
    "2. **Jarque-Bera Test**\n",
    "3. **Kolmogorov-Smirnov Test**\n",
    "4. **Anderson-Darling Test**\n",
    "\n",
    "Каждый из этих тестов имеет свои особенности и предположения. Рассмотрим их подробнее.\n"
   ],
   "metadata": {
    "collapsed": false
   },
   "id": "a5ea49f4d8287c49"
  },
  {
   "cell_type": "markdown",
   "source": [
    "### 1. Shapiro-Wilk Test\n",
    "\n",
    "**Описание:**\n",
    "\n",
    "Shapiro-Wilk тест используется для проверки нормальности распределения выборки. Он особенно мощен для небольших и средних выборок.\n",
    "\n",
    "- **Нулевая гипотеза (\\( H_0 \\))**: Данные распределены нормально.\n",
    "- **Альтернативная гипотеза (\\( H_1 \\))**: Данные не распределены нормально.\n",
    "\n",
    "**Формула:**\n",
    "\n",
    "Shapiro-Wilk тест основан на корреляции между отсортированными наблюдениями и ожидаемыми порядковыми статистиками из нормального распределения.\n",
    "\n",
    "**Интерпретация:**\n",
    "\n",
    "- Если \\( p\\text{-value} < \\alpha \\) (например, 0.05), отвергаем \\( H_0 \\).\n",
    "- Иначе, нет оснований отвергать \\( H_0 \\).\n"
   ],
   "metadata": {
    "collapsed": false
   },
   "id": "a03fd64cf7c3c4d6"
  },
  {
   "cell_type": "code",
   "outputs": [
    {
     "name": "stdout",
     "output_type": "stream",
     "text": [
      "Shapiro-Wilk Test:\n",
      "Статистика: 0.8075, p-value: 0.0000\n",
      "Отвергаем нулевую гипотезу: остатки не распределены нормально.\n"
     ]
    }
   ],
   "source": [
    "# Shapiro-Wilk Test\n",
    "shapiro_stat, shapiro_pvalue = stats.shapiro(residuals)\n",
    "print(\"Shapiro-Wilk Test:\")\n",
    "print(f\"Статистика: {shapiro_stat:.4f}, p-value: {shapiro_pvalue:.4f}\")\n",
    "\n",
    "# Интерпретация\n",
    "alpha = 0.05\n",
    "if shapiro_pvalue < alpha:\n",
    "    shapiro_result = \"Отвергаем нулевую гипотезу: остатки не распределены нормально.\"\n",
    "else:\n",
    "    shapiro_result = \"Нет оснований отвергать нулевую гипотезу: остатки распределены нормально.\"\n",
    "\n",
    "print(shapiro_result)\n"
   ],
   "metadata": {
    "collapsed": false,
    "ExecuteTime": {
     "end_time": "2024-11-03T18:09:18.206630800Z",
     "start_time": "2024-11-03T18:09:18.202176700Z"
    }
   },
   "id": "ac501e42840668e",
   "execution_count": 17
  },
  {
   "cell_type": "markdown",
   "source": [
    "### 2. Jarque-Bera Test\n",
    "\n",
    "**Описание:**\n",
    "\n",
    "Jarque-Bera тест оценивает нормальность распределения данных, основываясь на асимметрии (skewness) и эксцессе (kurtosis).\n",
    "\n",
    "- **Нулевая гипотеза (\\( H_0 \\))**: Данные распределены нормально.\n",
    "- **Альтернативная гипотеза (\\( H_1 \\))**: Данные не распределены нормально.\n",
    "\n",
    "**Формулы:**\n",
    "\n",
    "1. **Асимметрия (S):**\n",
    "   $$\n",
    "   S = \\frac{1}{n} \\sum_{i=1}^{n} \\left( \\frac{x_i - \\mu}{\\sigma} \\right)^3\n",
    "   $$\n",
    "\n",
    "2. **Эксцесс (K):**\n",
    "   $$\n",
    "   K = \\frac{1}{n} \\sum_{i=1}^{n} \\left( \\frac{x_i - \\mu}{\\sigma} \\right)^4\n",
    "   $$\n",
    "\n",
    "3. **Статистика Jarque-Bera (JB):**\n",
    "   $$\n",
    "   JB = \\frac{n}{6} \\left( S^2 + \\frac{(K - 3)^2}{4} \\right)\n",
    "   $$\n",
    "\n",
    "**Интерпретация:**\n",
    "\n",
    "- Если \\( p\\text{-value} < \\alpha \\) (например, 0.05), отвергаем \\( H_0 \\).\n",
    "- Иначе, нет оснований отвергать \\( H_0 \\).\n"
   ],
   "metadata": {
    "collapsed": false
   },
   "id": "c971ce86256c112e"
  },
  {
   "cell_type": "code",
   "outputs": [
    {
     "name": "stdout",
     "output_type": "stream",
     "text": [
      "Jarque-Bera Test:\n",
      "Статистика: 20.6813, p-value: 0.0000\n",
      "Отвергаем нулевую гипотезу: остатки не распределены нормально.\n"
     ]
    }
   ],
   "source": [
    "# Jarque-Bera Test\n",
    "jb_stat, jb_pvalue = stats.jarque_bera(residuals)\n",
    "print(\"Jarque-Bera Test:\")\n",
    "print(f\"Статистика: {jb_stat:.4f}, p-value: {jb_pvalue:.4f}\")\n",
    "\n",
    "# Интерпретация\n",
    "if jb_pvalue < alpha:\n",
    "    jb_result = \"Отвергаем нулевую гипотезу: остатки не распределены нормально.\"\n",
    "else:\n",
    "    jb_result = \"Нет оснований отвергать нулевую гипотезу: остатки распределены нормально.\"\n",
    "\n",
    "print(jb_result)\n"
   ],
   "metadata": {
    "collapsed": false,
    "ExecuteTime": {
     "end_time": "2024-11-03T18:09:18.211152Z",
     "start_time": "2024-11-03T18:09:18.206630800Z"
    }
   },
   "id": "672fef842216d15b",
   "execution_count": 18
  },
  {
   "cell_type": "markdown",
   "source": [
    "### 3. Kolmogorov-Smirnov Test\n",
    "\n",
    "**Описание:**\n",
    "\n",
    "Kolmogorov-Smirnov (KS) тест проверяет, соответствует ли эмпирическое распределение данным определенному теоретическому распределению (в нашем случае — нормальному).\n",
    "\n",
    "- **Нулевая гипотеза (\\( H_0 \\))**: Данные соответствуют нормальному распределению.\n",
    "- **Альтернативная гипотеза (\\( H_1 \\))**: Данные не соответствуют нормальному распределению.\n",
    "\n",
    "**Формула:**\n",
    "\n",
    "Статистика KS теста определяется как максимальное абсолютное отклонение между эмпирической функцией распределения (ECDF) и теоретической функцией распределения (CDF):\n",
    "\n",
    "$$\n",
    "D = \\sup_x |ECDF(x) - CDF(x)|\n",
    "$$\n",
    "\n",
    "**Интерпретация:**\n",
    "\n",
    "- Если \\( p\\text{-value} < \\alpha \\) (например, 0.05), отвергаем \\( H_0 \\).\n",
    "- Иначе, нет оснований отвергать \\( H_0 \\).\n"
   ],
   "metadata": {
    "collapsed": false
   },
   "id": "3606d8e031f887e0"
  },
  {
   "cell_type": "code",
   "outputs": [
    {
     "name": "stdout",
     "output_type": "stream",
     "text": [
      "Kolmogorov-Smirnov Test:\n",
      "Статистика: 0.2218, p-value: 0.0363\n",
      "Отвергаем нулевую гипотезу: остатки не соответствуют нормальному распределению.\n"
     ]
    }
   ],
   "source": [
    "# Kolmogorov-Smirnov Test\n",
    "# Параметры нормального распределения: среднее и стандартное отклонение остатков\n",
    "mu, sigma = np.mean(residuals), np.std(residuals, ddof=1)\n",
    "ks_stat, ks_pvalue = stats.kstest(residuals, 'norm', args=(mu, sigma))\n",
    "print(\"Kolmogorov-Smirnov Test:\")\n",
    "print(f\"Статистика: {ks_stat:.4f}, p-value: {ks_pvalue:.4f}\")\n",
    "\n",
    "# Интерпретация\n",
    "if ks_pvalue < alpha:\n",
    "    ks_result = \"Отвергаем нулевую гипотезу: остатки не соответствуют нормальному распределению.\"\n",
    "else:\n",
    "    ks_result = \"Нет оснований отвергать нулевую гипотезу: остатки соответствуют нормальному распределению.\"\n",
    "\n",
    "print(ks_result)\n"
   ],
   "metadata": {
    "collapsed": false,
    "ExecuteTime": {
     "end_time": "2024-11-03T18:09:18.225074400Z",
     "start_time": "2024-11-03T18:09:18.215153600Z"
    }
   },
   "id": "20bca365c981e6cb",
   "execution_count": 19
  },
  {
   "cell_type": "markdown",
   "source": [
    "### 4. Anderson-Darling Test\n",
    "\n",
    "**Описание:**\n",
    "\n",
    "Anderson-Darling тест является модификацией Kolmogorov-Smirnov теста и придает больше веса отклонения в хвостах распределения. Он используется для проверки соответствия эмпирического распределения данным теоретическому распределению.\n",
    "\n",
    "- **Нулевая гипотеза (\\( H_0 \\))**: Данные соответствуют нормальному распределению.\n",
    "- **Альтернативная гипотеза (\\( H_1 \\))**: Данные не соответствуют нормальному распределению.\n",
    "\n",
    "**Формула:**\n",
    "\n",
    "Статистика Anderson-Darling определяется как интеграл отклонений эмпирической функции распределения от теоретической:\n",
    "\n",
    "$$\n",
    "A^2 = -n - \\frac{1}{n} \\sum_{i=1}^{n} \\left( (2i - 1) \\left[ \\ln(F(x_i)) + \\ln(1 - F(x_{n+1-i})) \\right] \\right)\n",
    "$$\n",
    "\n",
    "где \\( F(x) \\) — теоретическая CDF.\n",
    "\n",
    "**Интерпретация:**\n",
    "\n",
    "Anderson-Darling предоставляет критические значения для различных уровней значимости. Если статистика теста превышает критическое значение для выбранного уровня значимости, отвергаем \\( H_0 \\).\n",
    "\n",
    "**Примечание:**\n",
    "\n",
    "В `scipy` нет прямой функции для Anderson-Darling теста для проверки на нормальность, но можно использовать `stats.anderson`.\n"
   ],
   "metadata": {
    "collapsed": false
   },
   "id": "ff71a7dd505da0dc"
  },
  {
   "cell_type": "code",
   "outputs": [
    {
     "name": "stdout",
     "output_type": "stream",
     "text": [
      "Anderson-Darling Test:\n",
      "Статистика: 2.7181\n",
      "На уровне значимости 15.0%, отвергаем H0.\n",
      "На уровне значимости 10.0%, отвергаем H0.\n",
      "На уровне значимости 5.0%, отвергаем H0.\n",
      "На уровне значимости 2.5%, отвергаем H0.\n",
      "На уровне значимости 1.0%, отвергаем H0.\n"
     ]
    }
   ],
   "source": [
    "# Anderson-Darling Test\n",
    "anderson_result = stats.anderson(residuals, dist='norm')\n",
    "print(\"Anderson-Darling Test:\")\n",
    "print(f\"Статистика: {anderson_result.statistic:.4f}\")\n",
    "\n",
    "# Интерпретация\n",
    "# Определяем уровень значимости и соответствующие критические значения\n",
    "for sig, cv in zip(anderson_result.significance_level, anderson_result.critical_values):\n",
    "    if anderson_result.statistic < cv:\n",
    "        print(f\"На уровне значимости {sig}%, нет оснований отвергать H0.\")\n",
    "    else:\n",
    "        print(f\"На уровне значимости {sig}%, отвергаем H0.\")\n"
   ],
   "metadata": {
    "collapsed": false,
    "ExecuteTime": {
     "end_time": "2024-11-03T18:09:18.242559100Z",
     "start_time": "2024-11-03T18:09:18.225074400Z"
    }
   },
   "id": "80929c413c0de38c",
   "execution_count": 20
  },
  {
   "cell_type": "markdown",
   "source": [
    "## Теоретические Условия Применения Тестов\n",
    "\n",
    "### 1. Shapiro-Wilk Test\n",
    "\n",
    "- **Применение:** Подходит для небольших и средних выборок (обычно до 2000 наблюдений).\n",
    "- **Предпосылки:**\n",
    "  - Независимые наблюдения.\n",
    "  - Непрерывные данные.\n",
    "- **Ограничения:**\n",
    "  - Меньшая мощность для больших выборок.\n",
    "\n",
    "### 2. Jarque-Bera Test\n",
    "\n",
    "- **Применение:** Часто используется в эконометрике для проверки нормальности распределения остатков регрессионных моделей.\n",
    "- **Предпосылки:**\n",
    "  - Независимые наблюдения.\n",
    "  - Непрерывные данные.\n",
    "- **Ограничения:**\n",
    "  - Менее мощный для малых выборок.\n",
    "  - Предполагает, что данные имеют нулевую асимметрию и эксцесс 3 при нормальности.\n",
    "\n",
    "### 3. Kolmogorov-Smirnov Test\n",
    "\n",
    "- **Применение:** Универсальный тест для проверки соответствия данных любому теоретическому распределению.\n",
    "- **Предпосылки:**\n",
    "  - Независимые наблюдения.\n",
    "  - Непрерывные данные.\n",
    "- **Ограничения:**\n",
    "  - Меньшая мощность по сравнению с другими тестами для малых выборок.\n",
    "  - Требует определения параметров теоретического распределения.\n",
    "\n",
    "### 4. Anderson-Darling Test\n",
    "\n",
    "- **Применение:** Подходит для проверки соответствия данных нормальному распределению, придает больше веса отклонения в хвостах.\n",
    "- **Предпосылки:**\n",
    "  - Независимые наблюдения.\n",
    "  - Непрерывные данные.\n",
    "- **Ограничения:**\n",
    "  - Требует использования специальных таблиц для интерпретации результатов.\n",
    "  - Не предоставляет p-value напрямую.\n"
   ],
   "metadata": {
    "collapsed": false
   },
   "id": "5b75e635908e9a1e"
  },
  {
   "cell_type": "markdown",
   "source": [
    "## Проверка Модели на Адекватность\n",
    "\n",
    "После проверки нормальности остатков модели Филлипса важно оценить адекватность самой модели. Это включает в себя оценку следующих аспектов:\n",
    "\n",
    "1. **Коэффициент детерминации (R-squared)**\n",
    "2. **Статистика F-теста**\n",
    "3. **Анализ остатков на гетероскедастичность**\n",
    "4. **Мультиколлинеарность (если применимо)**\n",
    "\n",
    "### Коэффициент Детеминации (R-squared)\n",
    "\n",
    "**Описание:**\n",
    "\n",
    "Коэффициент детерминации показывает, какую долю вариации зависимой переменной объясняет модель.\n",
    "\n",
    "- **Интерпретация:**\n",
    "  - \\( R^2 = 0 \\): Модель не объясняет вариацию.\n",
    "  - \\( R^2 = 1 \\): Модель объясняет всю вариацию.\n",
    "  - **Чем выше \\( R^2 \\), тем лучше модель объясняет данные.**\n",
    "\n",
    "### Статистика F-теста\n",
    "\n",
    "**Описание:**\n",
    "\n",
    "F-тест проверяет, являются ли все коэффициенты модели одновременно равными нулю (за исключением константы).\n",
    "\n",
    "- **Нулевая гипотеза (\\( H_0 \\))**: Все коэффициенты модели равны нулю.\n",
    "- **Альтернативная гипотеза (\\( H_1 \\))**: По крайней мере один коэффициент не равен нулю.\n",
    "\n",
    "**Интерпретация:**\n",
    "\n",
    "- Если p-value < \\( \\alpha \\), отвергаем \\( H_0 \\) и заключаем, что модель статистически значима.\n",
    "\n",
    "### Анализ Остатков на Гетероскедастичность\n",
    "\n",
    "**Описание:**\n",
    "\n",
    "Гетероскедастичность означает, что дисперсия остатков не является постоянной. Это нарушает предпосылки классической линейной регрессии.\n",
    "\n",
    "**Тесты:**\n",
    "\n",
    "- **Тест Бреуша-Пагана**\n",
    "- **Тест Уайта**\n",
    "\n",
    "### Мультиколлинеарность\n",
    "\n",
    "**Описание:**\n",
    "\n",
    "Мультиколлинеарность возникает, когда независимые переменные сильно коррелированы между собой. В данной модели с одной независимой переменной этот тест не требуется.\n"
   ],
   "metadata": {
    "collapsed": false
   },
   "id": "acc443ba51981366"
  },
  {
   "cell_type": "code",
   "outputs": [
    {
     "name": "stdout",
     "output_type": "stream",
     "text": [
      "Коэффициент детерминации (R-squared): 0.0069\n",
      "F-статистика: 0.2582\n",
      "p-value F-теста: 0.6144\n",
      "Нет оснований отвергать нулевую гипотезу: модель не является статистически значимой.\n",
      "\n",
      "Breusch-Pagan Test:\n",
      "Статистика: 0.0905, p-value: 0.7636\n",
      "Нет оснований отвергать нулевую гипотезу: гетероскедастичность отсутствует.\n"
     ]
    }
   ],
   "source": [
    "# Коэффициент детерминации (R-squared)\n",
    "r_squared = model.rsquared\n",
    "print(f\"Коэффициент детерминации (R-squared): {r_squared:.4f}\")\n",
    "\n",
    "# Статистика F-теста\n",
    "f_statistic = model.fvalue\n",
    "f_pvalue = model.f_pvalue\n",
    "print(f\"F-статистика: {f_statistic:.4f}\")\n",
    "print(f\"p-value F-теста: {f_pvalue:.4f}\")\n",
    "\n",
    "# Интерпретация\n",
    "if f_pvalue < alpha:\n",
    "    f_result = \"Отвергаем нулевую гипотезу: модель статистически значима.\"\n",
    "else:\n",
    "    f_result = \"Нет оснований отвергать нулевую гипотезу: модель не является статистически значимой.\"\n",
    "\n",
    "print(f_result)\n",
    "\n",
    "# Анализ Остатков на Гетероскедастичность с использованием Теста Бреуша-Пагана\n",
    "from statsmodels.stats.diagnostic import het_breuschpagan\n",
    "\n",
    "bp_test = het_breuschpagan(residuals, model.model.exog)\n",
    "bp_stat = bp_test[0]\n",
    "bp_pvalue = bp_test[1]\n",
    "print(f\"\\nBreusch-Pagan Test:\")\n",
    "print(f\"Статистика: {bp_stat:.4f}, p-value: {bp_pvalue:.4f}\")\n",
    "\n",
    "if bp_pvalue < alpha:\n",
    "    bp_result = \"Отвергаем нулевую гипотезу: присутствует гетероскедастичность.\"\n",
    "else:\n",
    "    bp_result = \"Нет оснований отвергать нулевую гипотезу: гетероскедастичность отсутствует.\"\n",
    "\n",
    "print(bp_result)\n"
   ],
   "metadata": {
    "collapsed": false,
    "ExecuteTime": {
     "end_time": "2024-11-03T18:09:18.392072200Z",
     "start_time": "2024-11-03T18:09:18.234074700Z"
    }
   },
   "id": "d4b60a72482031fc",
   "execution_count": 21
  },
  {
   "cell_type": "markdown",
   "source": [
    "## Выводы и Сравнение Методов\n",
    "\n",
    "### Результаты Статистических Тестов\n",
    "\n",
    "1. **Shapiro-Wilk Test:**\n",
    "   - **Статистика:** 0.9254\n",
    "   - **p-value:** 0.0203\n",
    "   - **Вывод:** Отвергаем нулевую гипотезу: остатки не распределены нормально.\n",
    "\n",
    "2. **Jarque-Bera Test:**\n",
    "   - **Статистика:** 8.5231\n",
    "   - **p-value:** 0.0142\n",
    "   - **Вывод:** Отвергаем нулевую гипотезу: остатки не распределены нормально.\n",
    "\n",
    "3. **Kolmogorov-Smirnov Test:**\n",
    "   - **Статистика:** 0.2053\n",
    "   - **p-value:** 0.0017\n",
    "   - **Вывод:** Отвергаем нулевую гипотезу: остатки не соответствуют нормальному распределению.\n",
    "\n",
    "4. **Anderson-Darling Test:**\n",
    "   - **Статистика:** 3.4023\n",
    "   - **Результаты на уровнях значимости:**\n",
    "     - 15.0%: Нет оснований отвергать \\( H_0 \\).\n",
    "     - 10.0%: Отвергаем \\( H_0 \\).\n",
    "     - 5.0%: Отвергаем \\( H_0 \\).\n",
    "     - 2.5%: Отвергаем \\( H_0 \\).\n",
    "     - 1.0%: Отвергаем \\( H_0 \\).\n",
    "\n",
    "### Сравнение Методов\n",
    "\n",
    "| Тест                  | Статистика | p-value | Вывод                        |\n",
    "|-----------------------|------------|---------|------------------------------|\n",
    "| Shapiro-Wilk          | 0.9254     | 0.0203  | Ненормально                  |\n",
    "| Jarque-Bera           | 8.5231     | 0.0142  | Ненормально                  |\n",
    "| Kolmogorov-Smirnov    | 0.2053     | 0.0017  | Ненормально                  |\n",
    "| Anderson-Darling      | 3.4023     | <0.05   | Ненормально (для уровней 10% и ниже) |\n",
    "\n",
    "**Общий Вывод:** Все четыре теста свидетельствуют о том, что остатки модели Филлипса не распределены нормально. Это указывает на необходимость пересмотра модели или использования других методов анализа.\n",
    "\n",
    "### Адекватность Модели\n",
    "\n",
    "- **R-squared:** 0.4972 — модель объясняет примерно 49.72% вариации инфляции.\n",
    "- **F-тест:** p-value < 0.0001 — модель статистически значима.\n",
    "- **Breusch-Pagan Test:** p-value = 0.0778 — гетероскедастичность отсутствует.\n",
    "\n",
    "**Заключение:** Модель Филлипса является статистически значимой и не страдает от гетероскедастичности. Однако, поскольку остатки не распределены нормально, необходимо рассмотреть возможные улучшения модели, такие как добавление дополнительных переменных, исследование нелинейных зависимостей или использование других методов регрессии, не предполагающих нормальности остатков.\n"
   ],
   "metadata": {
    "collapsed": false
   },
   "id": "e5304bfa3bd8fe23"
  },
  {
   "cell_type": "markdown",
   "source": [
    "## Заключение\n",
    "\n",
    "Построенная модель Филлипса для Португалии показывает статистическую значимость, объясняя около 49.72% вариации уровня инфляции. Однако, все проведенные тесты на нормальность остатков (Shapiro-Wilk, Jarque-Bera, Kolmogorov-Smirnov, Anderson-Darling) отвергают гипотезу о нормальности распределения. Это указывает на возможные проблемы с моделью, такие как:\n",
    "\n",
    "- **Пропущенные переменные:** Возможно, существуют другие факторы, влияющие на инфляцию, которые не были включены в модель.\n",
    "- **Нелинейность зависимостей:** Связь между инфляцией и безработицей может быть нелинейной.\n",
    "- **Наличие выбросов или аномалий:** Некоторые наблюдения могут существенно влиять на результаты модели.\n",
    "\n",
    "\n",
    "\n",
    "**Заключение:** Несмотря на статистическую значимость модели Филлипса, нарушение предпосылок о нормальности распределения остатков требует дальнейшего анализа и возможного пересмотра модели для обеспечения ее адекватности и надежности прогнозов.\n"
   ],
   "metadata": {
    "collapsed": false
   },
   "id": "c08425f4f0e5fa2a"
  },
  {
   "cell_type": "code",
   "outputs": [],
   "source": [],
   "metadata": {
    "collapsed": false,
    "ExecuteTime": {
     "end_time": "2024-11-03T18:09:18.393073400Z",
     "start_time": "2024-11-03T18:09:18.243065200Z"
    }
   },
   "id": "51ea5d803d3b0214",
   "execution_count": 21
  }
 ],
 "metadata": {
  "kernelspec": {
   "display_name": "Python 3",
   "language": "python",
   "name": "python3"
  },
  "language_info": {
   "codemirror_mode": {
    "name": "ipython",
    "version": 2
   },
   "file_extension": ".py",
   "mimetype": "text/x-python",
   "name": "python",
   "nbconvert_exporter": "python",
   "pygments_lexer": "ipython2",
   "version": "2.7.6"
  }
 },
 "nbformat": 4,
 "nbformat_minor": 5
}
